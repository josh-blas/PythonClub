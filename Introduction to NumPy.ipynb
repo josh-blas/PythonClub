{
 "cells": [
  {
   "cell_type": "markdown",
   "id": "1e647051",
   "metadata": {},
   "source": [
    "### Introduction to NumPy"
   ]
  },
  {
   "cell_type": "markdown",
   "id": "c6badea2",
   "metadata": {},
   "source": [
    "![NumPy](https://upload.wikimedia.org/wikipedia/commons/thumb/3/31/NumPy_logo_2020.svg/1280px-NumPy_logo_2020.svg.png)"
   ]
  },
  {
   "cell_type": "markdown",
   "id": "996038c9",
   "metadata": {},
   "source": [
    "From https://numpy.org:\n",
    "\n",
    "NumPy is the fundamental package for scientific computing with Python.\n",
    "\n",
    "It is a Python library that provides a multidimensional array objects and an assortment of routines for fast operations on arrays."
   ]
  },
  {
   "cell_type": "markdown",
   "id": "1dac6e71",
   "metadata": {},
   "source": [
    "### NumPy Arrays"
   ]
  },
  {
   "cell_type": "markdown",
   "id": "7d4f4a90",
   "metadata": {},
   "source": [
    "The main object provided by the NumPy library is the n-dimensional array.\n",
    "\n",
    "An array is simply a collection of elements of the same data type; n-dimensional means that our array can be:\n",
    "* A 1-D array is like a list of numbers\n",
    "* A 2-D array is like a table of numbers\n",
    "* A 3-D array is like a cube of numbers\n",
    "* An N-D array is just a  multi-dimensional container of elements"
   ]
  },
  {
   "cell_type": "markdown",
   "id": "a9f1452d",
   "metadata": {},
   "source": [
    "![N-D array](https://i.stack.imgur.com/Tbe9W.png)"
   ]
  },
  {
   "cell_type": "markdown",
   "id": "01469faf",
   "metadata": {},
   "source": [
    "Ndarrays in NumPy are data structures that allow us to easily create, access, and manipulate a specific collection of items.\n",
    "\n",
    "Before we can create our first ndarrays, we must first import the numpy library into our notebook.\n",
    "\n",
    "It is standard convention to import numpy as the acronym `np` and so we will follow that standard here."
   ]
  },
  {
   "cell_type": "code",
   "execution_count": 1,
   "id": "29372b2f",
   "metadata": {},
   "outputs": [],
   "source": [
    "import numpy as np"
   ]
  },
  {
   "cell_type": "markdown",
   "id": "a39488cd",
   "metadata": {},
   "source": [
    "## Constructing Arrays \n",
    "### Array Creation Routines"
   ]
  },
  {
   "cell_type": "markdown",
   "id": "5c4b3d62",
   "metadata": {},
   "source": [
    "We can create ndarrays using the function `np.array`, which requires an input of a Python sequence such as a list, tuple, or list of lists.\n",
    "\n",
    "We will create a 1D NumPy array as follows:"
   ]
  },
  {
   "cell_type": "code",
   "execution_count": 3,
   "id": "13a5f59b",
   "metadata": {},
   "outputs": [
    {
     "name": "stdout",
     "output_type": "stream",
     "text": [
      "[ 7  2  9 10]\n"
     ]
    }
   ],
   "source": [
    "a = np.array([7,2,9,10]) # 1D Array\n",
    "print(a)"
   ]
  },
  {
   "cell_type": "markdown",
   "id": "7207ac30",
   "metadata": {},
   "source": [
    "We see that using the `np.array` function on a list of numbers created the 1D array `[ 7  2  9 10]`.\n",
    "\n",
    "We now have a simple ndarray with 4 elements."
   ]
  },
  {
   "cell_type": "markdown",
   "id": "5739b238",
   "metadata": {},
   "source": [
    "A common mistake is to forget to include square brackets, which will raise an error:"
   ]
  },
  {
   "cell_type": "code",
   "execution_count": null,
   "id": "54af6fd1",
   "metadata": {},
   "outputs": [],
   "source": [
    "z = np.array(7,2,9,10) # will raise error"
   ]
  },
  {
   "cell_type": "markdown",
   "id": "96a70c9c",
   "metadata": {},
   "source": [
    "To create multi-dimensional arrays, we must pass in nested Python lists.\n",
    "\n",
    "We will create a 2D and 3D array as follows:"
   ]
  },
  {
   "cell_type": "code",
   "execution_count": 4,
   "id": "48c644d0",
   "metadata": {},
   "outputs": [
    {
     "name": "stdout",
     "output_type": "stream",
     "text": [
      "[[5.2 3.  4.5]\n",
      " [9.1 0.1 0.3]]\n"
     ]
    }
   ],
   "source": [
    "b = np.array([[5.2, 3.0, 4.5], [9.1, 0.1, 0.3]]) # 2D Array\n",
    "print(b)"
   ]
  },
  {
   "cell_type": "code",
   "execution_count": 5,
   "id": "f0b68d2a",
   "metadata": {
    "scrolled": true
   },
   "outputs": [
    {
     "name": "stdout",
     "output_type": "stream",
     "text": [
      "[[[1 2 3]\n",
      "  [4 5 6]\n",
      "  [7 8 9]]]\n"
     ]
    }
   ],
   "source": [
    "c = np.array([[[1, 2, 3], [4, 5, 6], [7, 8, 9]]]) # 3D Array \n",
    "print(c) "
   ]
  },
  {
   "cell_type": "markdown",
   "id": "5f008757",
   "metadata": {},
   "source": [
    "We can verify the type of our arrays using the built-in `type()` function:"
   ]
  },
  {
   "cell_type": "code",
   "execution_count": 31,
   "id": "5e577e7a",
   "metadata": {},
   "outputs": [
    {
     "data": {
      "text/plain": [
       "numpy.ndarray"
      ]
     },
     "execution_count": 31,
     "metadata": {},
     "output_type": "execute_result"
    }
   ],
   "source": [
    "type(a)"
   ]
  },
  {
   "cell_type": "code",
   "execution_count": 26,
   "id": "33c336d4",
   "metadata": {},
   "outputs": [
    {
     "data": {
      "text/plain": [
       "numpy.ndarray"
      ]
     },
     "execution_count": 26,
     "metadata": {},
     "output_type": "execute_result"
    }
   ],
   "source": [
    "type(b)"
   ]
  },
  {
   "cell_type": "code",
   "execution_count": 27,
   "id": "229dfd73",
   "metadata": {
    "scrolled": false
   },
   "outputs": [
    {
     "data": {
      "text/plain": [
       "numpy.ndarray"
      ]
     },
     "execution_count": 27,
     "metadata": {},
     "output_type": "execute_result"
    }
   ],
   "source": [
    "type(c)"
   ]
  },
  {
   "cell_type": "markdown",
   "id": "3d586d60",
   "metadata": {},
   "source": [
    "**Exercises**"
   ]
  },
  {
   "cell_type": "markdown",
   "id": "008df7ed",
   "metadata": {},
   "source": [
    "1.) Create three arrays of different dimensions using `np.array()`."
   ]
  },
  {
   "cell_type": "code",
   "execution_count": null,
   "id": "dff4ccf7",
   "metadata": {},
   "outputs": [],
   "source": []
  },
  {
   "cell_type": "markdown",
   "id": "a5b737f1",
   "metadata": {},
   "source": [
    "2.) Create a 3D array of unique digits 1-9 whose rows, columns, and diagonals all sum to 15."
   ]
  },
  {
   "cell_type": "code",
   "execution_count": null,
   "id": "e5ab8eee",
   "metadata": {},
   "outputs": [],
   "source": []
  },
  {
   "cell_type": "markdown",
   "id": "c5119793",
   "metadata": {},
   "source": [
    "3.) Create a 1D array and a standard Python list. Find their similarities and differences."
   ]
  },
  {
   "cell_type": "code",
   "execution_count": null,
   "id": "d933f86c",
   "metadata": {},
   "outputs": [],
   "source": []
  },
  {
   "cell_type": "markdown",
   "id": "dc3b9f4e",
   "metadata": {},
   "source": [
    "4.) Create an ndarray that will fail to execute and explain why."
   ]
  },
  {
   "cell_type": "code",
   "execution_count": null,
   "id": "019ee408",
   "metadata": {},
   "outputs": [],
   "source": []
  },
  {
   "cell_type": "markdown",
   "id": "1d81c80e",
   "metadata": {},
   "source": [
    "5.) Practice importing numpy using the standard convention."
   ]
  },
  {
   "cell_type": "code",
   "execution_count": null,
   "id": "5ec56bb2",
   "metadata": {},
   "outputs": [],
   "source": []
  },
  {
   "cell_type": "markdown",
   "id": "bcdda30f",
   "metadata": {},
   "source": [
    "     "
   ]
  },
  {
   "cell_type": "markdown",
   "id": "3bc573ae",
   "metadata": {},
   "source": [
    "However, there are actually several NumPy functions for creating arrays.\n",
    "\n",
    "We summarize some of the most popular ways in the table below.\n",
    "* Note: Since we have imported numpy using `np`, we shall refer to numpy as `np` in the table below."
   ]
  },
  {
   "cell_type": "markdown",
   "id": "98311715",
   "metadata": {},
   "source": [
    "| Function | Description |\n",
    "| ---: | :--- |\n",
    "| `np.array(a)` | Create $n$-dimensional NumPy array from sequence `a` |\n",
    "| `np.linspace(a,b,N)` | Create 1D NumPy array with `N` equally spaced values from `a` to `b` (inclusively)|\n",
    "| `np.arange(a,b,step)` | Create 1D NumPy array with values from `a` to `b` (exclusively) incremented by `step`|\n",
    "| `np.zeros(N)` | Create 1D NumPy array of zeros of length $N$ |\n",
    "| `np.zeros((n,m))` | Create 2D NumPy array of zeros with $n$ rows and $m$ columns |\n",
    "| `np.ones(N)` | Create 1D NumPy array of ones of length $N$ |\n",
    "| `np.ones((n,m))` | Create 2D NumPy array of ones with $n$ rows and $m$ columns |\n",
    "| `np.eye(N)` | Create 2D NumPy array with $N$ rows and $N$ columns with ones on the diagonal (ie. the identity matrix of size $N$) |\n",
    "| `np.full(shape, fill_value)` | Return a new array of given `shape` filled with `fill_value`. |"
   ]
  },
  {
   "cell_type": "markdown",
   "id": "ffd289aa",
   "metadata": {},
   "source": [
    "Each function creates some type of NumPy array using what is called dot notation.\n",
    "* The dot notation indicates that we are accessing data or behaviors for a particular object type.\n",
    "\n",
    "The values inside the parentheses are called parameters, and we can pass in specific values for these parameters that our function will use.\n",
    "\n",
    "We will now go through and see each function in action."
   ]
  },
  {
   "cell_type": "markdown",
   "id": "a4cfb9fc",
   "metadata": {},
   "source": [
    "**1. `np.array(a)`**"
   ]
  },
  {
   "cell_type": "markdown",
   "id": "152ec25f",
   "metadata": {},
   "source": [
    "We have already seen the `np.array(a)` function above. \n",
    "\n",
    "Providing `np.array()` with a sequence `a` creates an n-dimensional NumPy array."
   ]
  },
  {
   "cell_type": "code",
   "execution_count": 7,
   "id": "d60250b1",
   "metadata": {
    "scrolled": true
   },
   "outputs": [
    {
     "data": {
      "text/plain": [
       "array([[1, 2],\n",
       "       [3, 4]])"
      ]
     },
     "execution_count": 7,
     "metadata": {},
     "output_type": "execute_result"
    }
   ],
   "source": [
    "np.array([[1,2],[3,4]])"
   ]
  },
  {
   "cell_type": "code",
   "execution_count": 8,
   "id": "f173d07a",
   "metadata": {},
   "outputs": [
    {
     "data": {
      "text/plain": [
       "array([[  4. ,   1.5, -50. ]])"
      ]
     },
     "execution_count": 8,
     "metadata": {},
     "output_type": "execute_result"
    }
   ],
   "source": [
    "np.array([[4.0, 3/2, -50]])"
   ]
  },
  {
   "cell_type": "markdown",
   "id": "7a322c0e",
   "metadata": {},
   "source": [
    "**2. `np.linspace(a,b,N)`**"
   ]
  },
  {
   "cell_type": "markdown",
   "id": "bce75cd1",
   "metadata": {},
   "source": [
    "The function `np.linspace()` returns `N` evenly spaced values, calculated over the interval `[a,b]`."
   ]
  },
  {
   "cell_type": "markdown",
   "id": "85c70ec1",
   "metadata": {},
   "source": [
    "For instance, if we wanted an array with the integers 1-100, we could use `np.linspace` as a more efficient way than manually typing out the sequence.\n",
    "\n",
    "* We would set `a=0`, since this is the start of our interval.\n",
    "* We would set `b=100`, since this is the end of our interval.\n",
    "* And since we want 100 numbers, we would set `N=100`."
   ]
  },
  {
   "cell_type": "code",
   "execution_count": 12,
   "id": "974e3885",
   "metadata": {
    "scrolled": true
   },
   "outputs": [
    {
     "data": {
      "text/plain": [
       "array([  1.,   2.,   3.,   4.,   5.,   6.,   7.,   8.,   9.,  10.,  11.,\n",
       "        12.,  13.,  14.,  15.,  16.,  17.,  18.,  19.,  20.,  21.,  22.,\n",
       "        23.,  24.,  25.,  26.,  27.,  28.,  29.,  30.,  31.,  32.,  33.,\n",
       "        34.,  35.,  36.,  37.,  38.,  39.,  40.,  41.,  42.,  43.,  44.,\n",
       "        45.,  46.,  47.,  48.,  49.,  50.,  51.,  52.,  53.,  54.,  55.,\n",
       "        56.,  57.,  58.,  59.,  60.,  61.,  62.,  63.,  64.,  65.,  66.,\n",
       "        67.,  68.,  69.,  70.,  71.,  72.,  73.,  74.,  75.,  76.,  77.,\n",
       "        78.,  79.,  80.,  81.,  82.,  83.,  84.,  85.,  86.,  87.,  88.,\n",
       "        89.,  90.,  91.,  92.,  93.,  94.,  95.,  96.,  97.,  98.,  99.,\n",
       "       100.])"
      ]
     },
     "execution_count": 12,
     "metadata": {},
     "output_type": "execute_result"
    }
   ],
   "source": [
    "np.linspace(1,100,100)"
   ]
  },
  {
   "cell_type": "markdown",
   "id": "f2307872",
   "metadata": {},
   "source": [
    "This `np.linspace()` function provides us a much quicker way to generate larger arrays."
   ]
  },
  {
   "cell_type": "markdown",
   "id": "c04a1d96",
   "metadata": {},
   "source": [
    "**3. `np.arange(a,b,N)`**"
   ]
  },
  {
   "cell_type": "markdown",
   "id": "cdb6f0cd",
   "metadata": {},
   "source": [
    "A function similar to `np.linspace()` is `np.arange()`.\n",
    "\n",
    "`np.arange()` also takes in an interval `[a, b]`.\n",
    "\n",
    "But the third parameter `step`  it describes the value of the steps/increments to take in the interval.\n",
    "\n",
    "Notice the difference with the `N` parameter in `np.linspace()`, which signifies the number of values to take in the interval.\n",
    "\n"
   ]
  },
  {
   "cell_type": "markdown",
   "id": "d686e175",
   "metadata": {},
   "source": [
    "So if we wanted the even integers between 0-100 we could set `step=2`, which means that it `np.arange()` will take increments of size 2 in between values. "
   ]
  },
  {
   "cell_type": "code",
   "execution_count": 13,
   "id": "21194bb4",
   "metadata": {
    "scrolled": true
   },
   "outputs": [
    {
     "data": {
      "text/plain": [
       "array([ 0,  2,  4,  6,  8, 10, 12, 14, 16, 18, 20, 22, 24, 26, 28, 30, 32,\n",
       "       34, 36, 38, 40, 42, 44, 46, 48, 50, 52, 54, 56, 58, 60, 62, 64, 66,\n",
       "       68, 70, 72, 74, 76, 78, 80, 82, 84, 86, 88, 90, 92, 94, 96, 98])"
      ]
     },
     "execution_count": 13,
     "metadata": {},
     "output_type": "execute_result"
    }
   ],
   "source": [
    "np.arange(0,100,2)"
   ]
  },
  {
   "cell_type": "markdown",
   "id": "f3bdabec",
   "metadata": {},
   "source": [
    "However, you probably noticed something unexpected about the `np.arange()` output above.\n",
    "\n",
    "Note that even though we included `b=100` as the end of our interval, it was not included in the array sequence produced.\n",
    "\n",
    "This is because of a subtle difference between `np.arange()` and `np.linspace()`. \n",
    "\n",
    "For `np.arange()`, the endpoint parameter `b` is *not included* in the array sequence, ie. it is *exclusive*.\n",
    "\n",
    "While for `np.linspace()`, the endpoint parameter `b` is *included* in the array sequence, ie. it is *inclusive*.\n",
    "\n"
   ]
  },
  {
   "cell_type": "code",
   "execution_count": 18,
   "id": "19a64b04",
   "metadata": {},
   "outputs": [
    {
     "data": {
      "text/plain": [
       "array([ 0.,  1.,  2.,  3.,  4.,  5.,  6.,  7.,  8.,  9., 10.])"
      ]
     },
     "execution_count": 18,
     "metadata": {},
     "output_type": "execute_result"
    }
   ],
   "source": [
    "np.linspace(0,10,11) "
   ]
  },
  {
   "cell_type": "markdown",
   "id": "1eedd49d",
   "metadata": {},
   "source": [
    "Note how the endpoint 10 *is* included in the array."
   ]
  },
  {
   "cell_type": "code",
   "execution_count": 16,
   "id": "6391e01e",
   "metadata": {},
   "outputs": [
    {
     "data": {
      "text/plain": [
       "array([0, 1, 2, 3, 4, 5, 6, 7, 8, 9])"
      ]
     },
     "execution_count": 16,
     "metadata": {},
     "output_type": "execute_result"
    }
   ],
   "source": [
    "np.arange(0,10,1)"
   ]
  },
  {
   "cell_type": "markdown",
   "id": "55f06b14",
   "metadata": {},
   "source": [
    "Note how the endpoint 10 *is not* included in the array."
   ]
  },
  {
   "cell_type": "markdown",
   "id": "d0e3f167",
   "metadata": {},
   "source": [
    "Thus we should use `np.arange()` when we know the *step size* for our array and `np.linspace()` when we know the *number of points* in  our array.\n",
    "\n",
    "This difference is important to remember as we will be using both of these functions throughout the course."
   ]
  },
  {
   "cell_type": "markdown",
   "id": "32ae6ce4",
   "metadata": {},
   "source": [
    "**4. `np.zeros(N)` & `np.zeros((n,m))`**"
   ]
  },
  {
   "cell_type": "markdown",
   "id": "edf5c515",
   "metadata": {},
   "source": [
    "The function `np.zeros(N)` simply creates a 1D array of zeros of length 𝑁.\n",
    "\n",
    "For instance, if we wanted a 1D array with 11 zeros, we would use `np.zeros(11)`:\n"
   ]
  },
  {
   "cell_type": "code",
   "execution_count": 19,
   "id": "06fb1f10",
   "metadata": {},
   "outputs": [
    {
     "data": {
      "text/plain": [
       "array([0., 0., 0., 0., 0., 0., 0., 0., 0., 0., 0.])"
      ]
     },
     "execution_count": 19,
     "metadata": {},
     "output_type": "execute_result"
    }
   ],
   "source": [
    "np.zeros(11)"
   ]
  },
  {
   "cell_type": "markdown",
   "id": "b2ae15aa",
   "metadata": {},
   "source": [
    "Or for a 1D array with 50 zeros, we would use `np.zeros(50)`:"
   ]
  },
  {
   "cell_type": "code",
   "execution_count": 20,
   "id": "1395b1bc",
   "metadata": {},
   "outputs": [
    {
     "data": {
      "text/plain": [
       "array([0., 0., 0., 0., 0., 0., 0., 0., 0., 0., 0., 0., 0., 0., 0., 0., 0.,\n",
       "       0., 0., 0., 0., 0., 0., 0., 0., 0., 0., 0., 0., 0., 0., 0., 0., 0.,\n",
       "       0., 0., 0., 0., 0., 0., 0., 0., 0., 0., 0., 0., 0., 0., 0., 0.])"
      ]
     },
     "execution_count": 20,
     "metadata": {},
     "output_type": "execute_result"
    }
   ],
   "source": [
    "np.zeros(50)"
   ]
  },
  {
   "cell_type": "markdown",
   "id": "1022a521",
   "metadata": {},
   "source": [
    "The function `np.zeros((n,m))` creates a 2D array of zeros with `n` rows and `m` columns. \n",
    "\n",
    "So if we wanted a 3 x 3 array of zeros, we could use `np.zeros((3,3))`."
   ]
  },
  {
   "cell_type": "code",
   "execution_count": 28,
   "id": "70c4e467",
   "metadata": {},
   "outputs": [
    {
     "data": {
      "text/plain": [
       "array([[0., 0., 0.],\n",
       "       [0., 0., 0.],\n",
       "       [0., 0., 0.]])"
      ]
     },
     "execution_count": 28,
     "metadata": {},
     "output_type": "execute_result"
    }
   ],
   "source": [
    "np.zeros((3,3))"
   ]
  },
  {
   "cell_type": "markdown",
   "id": "b346f5ab",
   "metadata": {},
   "source": [
    "Or for a 4 x 8 array of zeros, we could use `np.zeros((4,8))`."
   ]
  },
  {
   "cell_type": "code",
   "execution_count": 29,
   "id": "2538ece5",
   "metadata": {
    "scrolled": true
   },
   "outputs": [
    {
     "data": {
      "text/plain": [
       "array([[0., 0., 0., 0., 0., 0., 0., 0.],\n",
       "       [0., 0., 0., 0., 0., 0., 0., 0.],\n",
       "       [0., 0., 0., 0., 0., 0., 0., 0.],\n",
       "       [0., 0., 0., 0., 0., 0., 0., 0.]])"
      ]
     },
     "execution_count": 29,
     "metadata": {},
     "output_type": "execute_result"
    }
   ],
   "source": [
    "np.zeros((4,8))"
   ]
  },
  {
   "cell_type": "markdown",
   "id": "40b4fd03",
   "metadata": {},
   "source": [
    "**5. `np.ones(N)` & `np.ones((n,m))`**"
   ]
  },
  {
   "cell_type": "markdown",
   "id": "be1bc116",
   "metadata": {},
   "source": [
    "The function `np.ones(N)` simply creates a 1D array of ones of length 𝑁.\n",
    "\n",
    "For instance, if we wanted a 1D array with 12 ones, we would use `np.ones(12)`:\n"
   ]
  },
  {
   "cell_type": "code",
   "execution_count": 25,
   "id": "22976be7",
   "metadata": {
    "scrolled": true
   },
   "outputs": [
    {
     "data": {
      "text/plain": [
       "array([1., 1., 1., 1., 1., 1., 1., 1., 1., 1., 1., 1.])"
      ]
     },
     "execution_count": 25,
     "metadata": {},
     "output_type": "execute_result"
    }
   ],
   "source": [
    "np.ones(12)"
   ]
  },
  {
   "cell_type": "markdown",
   "id": "cd80aa7d",
   "metadata": {},
   "source": [
    "Or for a 1D array with 35 zeros, we would use `np.ones(50)`:"
   ]
  },
  {
   "cell_type": "code",
   "execution_count": 27,
   "id": "80cf6e47",
   "metadata": {
    "scrolled": true
   },
   "outputs": [
    {
     "data": {
      "text/plain": [
       "array([1., 1., 1., 1., 1., 1., 1., 1., 1., 1., 1., 1., 1., 1., 1., 1., 1.,\n",
       "       1., 1., 1., 1., 1., 1., 1., 1., 1., 1., 1., 1., 1., 1., 1., 1., 1.])"
      ]
     },
     "execution_count": 27,
     "metadata": {},
     "output_type": "execute_result"
    }
   ],
   "source": [
    "np.ones(34)"
   ]
  },
  {
   "cell_type": "markdown",
   "id": "b25951b1",
   "metadata": {},
   "source": [
    "The function `np.ones((n,m))` creates a 2D array of ones with `n` rows and `m` columns. \n",
    "\n",
    "So if we wanted a 5 x 5 array of ones, we could use `np.ones((5,5))`.\n",
    "\n"
   ]
  },
  {
   "cell_type": "code",
   "execution_count": 30,
   "id": "224b3ac5",
   "metadata": {},
   "outputs": [
    {
     "data": {
      "text/plain": [
       "array([[1., 1., 1., 1., 1.],\n",
       "       [1., 1., 1., 1., 1.],\n",
       "       [1., 1., 1., 1., 1.],\n",
       "       [1., 1., 1., 1., 1.],\n",
       "       [1., 1., 1., 1., 1.]])"
      ]
     },
     "execution_count": 30,
     "metadata": {},
     "output_type": "execute_result"
    }
   ],
   "source": [
    "np.ones((5,5))"
   ]
  },
  {
   "cell_type": "markdown",
   "id": "98f676b5",
   "metadata": {},
   "source": [
    "Or for a 12 x 6 array of ones, we could use `np.ones((12,6))`."
   ]
  },
  {
   "cell_type": "code",
   "execution_count": 31,
   "id": "68a72cb5",
   "metadata": {},
   "outputs": [
    {
     "data": {
      "text/plain": [
       "array([[1., 1., 1., 1., 1., 1.],\n",
       "       [1., 1., 1., 1., 1., 1.],\n",
       "       [1., 1., 1., 1., 1., 1.],\n",
       "       [1., 1., 1., 1., 1., 1.],\n",
       "       [1., 1., 1., 1., 1., 1.],\n",
       "       [1., 1., 1., 1., 1., 1.],\n",
       "       [1., 1., 1., 1., 1., 1.],\n",
       "       [1., 1., 1., 1., 1., 1.],\n",
       "       [1., 1., 1., 1., 1., 1.],\n",
       "       [1., 1., 1., 1., 1., 1.],\n",
       "       [1., 1., 1., 1., 1., 1.],\n",
       "       [1., 1., 1., 1., 1., 1.]])"
      ]
     },
     "execution_count": 31,
     "metadata": {},
     "output_type": "execute_result"
    }
   ],
   "source": [
    "np.ones((12,6))"
   ]
  },
  {
   "cell_type": "markdown",
   "id": "826f4135",
   "metadata": {},
   "source": [
    "**6. `np.eye(N)`**"
   ]
  },
  {
   "cell_type": "markdown",
   "id": "2190bb90",
   "metadata": {},
   "source": [
    "The function `np.eye(N)` creates a 2D array which has ones along the main diagonal and zeros elsewhere.\n",
    "\n",
    "It also has `N` rows and `N` columns (square)."
   ]
  },
  {
   "cell_type": "markdown",
   "id": "258f0597",
   "metadata": {},
   "source": [
    "This array is called the **identity matrix** and is an important concept in linear algebra, though understanding its usage is beyond the scope of this course."
   ]
  },
  {
   "cell_type": "markdown",
   "id": "8b4d3bbe",
   "metadata": {},
   "source": [
    "For instance, to create an identity matrix of size 3 we would use `np.eye(3)`:"
   ]
  },
  {
   "cell_type": "code",
   "execution_count": 32,
   "id": "85114541",
   "metadata": {},
   "outputs": [
    {
     "data": {
      "text/plain": [
       "array([[1., 0., 0.],\n",
       "       [0., 1., 0.],\n",
       "       [0., 0., 1.]])"
      ]
     },
     "execution_count": 32,
     "metadata": {},
     "output_type": "execute_result"
    }
   ],
   "source": [
    "np.eye(3)"
   ]
  },
  {
   "cell_type": "markdown",
   "id": "dc56e13d",
   "metadata": {},
   "source": [
    "**7. `np.full(shape, fill_value)`**"
   ]
  },
  {
   "cell_type": "markdown",
   "id": "1d24b88d",
   "metadata": {},
   "source": [
    "We can use the function `np.full(shape, fill_value)` to create a new array with dimensions `shape`, with each value `fill_value`."
   ]
  },
  {
   "cell_type": "markdown",
   "id": "ec211014",
   "metadata": {},
   "source": [
    "For instance if we wanted to create a 3 x 3 array of the value 3.14, we could use `np.full((3,3), 3.14)`"
   ]
  },
  {
   "cell_type": "code",
   "execution_count": 33,
   "id": "1d78a4ef",
   "metadata": {},
   "outputs": [
    {
     "data": {
      "text/plain": [
       "array([[3.14, 3.14, 3.14],\n",
       "       [3.14, 3.14, 3.14],\n",
       "       [3.14, 3.14, 3.14]])"
      ]
     },
     "execution_count": 33,
     "metadata": {},
     "output_type": "execute_result"
    }
   ],
   "source": [
    "np.full((3,3), 3.14)"
   ]
  },
  {
   "cell_type": "markdown",
   "id": "1caf307b",
   "metadata": {},
   "source": [
    "Or to create a 1 x 12 array of 100s we could use `np.full((1,12), 100)`"
   ]
  },
  {
   "cell_type": "code",
   "execution_count": 2,
   "id": "ee49c867",
   "metadata": {
    "scrolled": true
   },
   "outputs": [
    {
     "data": {
      "text/plain": [
       "array([[100, 100, 100, 100, 100, 100, 100, 100, 100, 100, 100, 100]])"
      ]
     },
     "execution_count": 2,
     "metadata": {},
     "output_type": "execute_result"
    }
   ],
   "source": [
    "np.full((1,12), 100)"
   ]
  },
  {
   "cell_type": "markdown",
   "id": "a29c82df",
   "metadata": {},
   "source": [
    "**Exercises: Part A**"
   ]
  },
  {
   "cell_type": "markdown",
   "id": "2ac39c93",
   "metadata": {},
   "source": [
    "1.) Create an array of odd integers from 1 to 99 (inclusive)."
   ]
  },
  {
   "cell_type": "code",
   "execution_count": null,
   "id": "9ccc2bff",
   "metadata": {},
   "outputs": [],
   "source": []
  },
  {
   "cell_type": "markdown",
   "id": "7215bf33",
   "metadata": {},
   "source": [
    "2.) Create an array of every multiple of 0.25 from -10 to 10 (inclusive)."
   ]
  },
  {
   "cell_type": "code",
   "execution_count": null,
   "id": "e536c33f",
   "metadata": {},
   "outputs": [],
   "source": []
  },
  {
   "cell_type": "markdown",
   "id": "194d735c",
   "metadata": {},
   "source": [
    "3.) Create an array with 20 values in between 0 and 1 (exclusive)."
   ]
  },
  {
   "cell_type": "code",
   "execution_count": null,
   "id": "0f447d76",
   "metadata": {},
   "outputs": [],
   "source": []
  },
  {
   "cell_type": "markdown",
   "id": "b7d7bcb4",
   "metadata": {},
   "source": [
    "4.) Create an nxm array fill with the product value $n\\cdot m$."
   ]
  },
  {
   "cell_type": "code",
   "execution_count": null,
   "id": "95f4d23f",
   "metadata": {},
   "outputs": [],
   "source": []
  },
  {
   "cell_type": "markdown",
   "id": "60d5cdb7",
   "metadata": {},
   "source": [
    "5.) Create a 1D NumPy array of zeros of length 4."
   ]
  },
  {
   "cell_type": "code",
   "execution_count": null,
   "id": "f0c6a24b",
   "metadata": {},
   "outputs": [],
   "source": []
  },
  {
   "cell_type": "markdown",
   "id": "bee57c81",
   "metadata": {},
   "source": [
    "6.) Create a 2D NumPy array of zeros with 5 rows and 2 columns."
   ]
  },
  {
   "cell_type": "code",
   "execution_count": null,
   "id": "b9d239b1",
   "metadata": {},
   "outputs": [],
   "source": []
  },
  {
   "cell_type": "markdown",
   "id": "aa3e121e",
   "metadata": {},
   "source": [
    "7.) Create a 5 x 10 array filled with zeros."
   ]
  },
  {
   "cell_type": "code",
   "execution_count": null,
   "id": "8d1cb76b",
   "metadata": {},
   "outputs": [],
   "source": []
  },
  {
   "cell_type": "markdown",
   "id": "6a3a6c68",
   "metadata": {},
   "source": [
    "8.) Create a 1D NumPy array of ones of length 7."
   ]
  },
  {
   "cell_type": "code",
   "execution_count": null,
   "id": "77f7ae88",
   "metadata": {},
   "outputs": [],
   "source": []
  },
  {
   "cell_type": "markdown",
   "id": "040d3f62",
   "metadata": {},
   "source": [
    "9.) Create a 10 x 5 array filled with ones."
   ]
  },
  {
   "cell_type": "code",
   "execution_count": null,
   "id": "e3a1724c",
   "metadata": {},
   "outputs": [],
   "source": []
  },
  {
   "cell_type": "markdown",
   "id": "bd40f4c1",
   "metadata": {},
   "source": [
    "10.) Create a 2D NumPy array of ones with 3 rows and 2 columns."
   ]
  },
  {
   "cell_type": "code",
   "execution_count": null,
   "id": "3a57b88f",
   "metadata": {},
   "outputs": [],
   "source": []
  },
  {
   "cell_type": "markdown",
   "id": "df91caa5",
   "metadata": {},
   "source": [
    "11.) Create an identity matrix of size 8."
   ]
  },
  {
   "cell_type": "code",
   "execution_count": null,
   "id": "5ab4f562",
   "metadata": {},
   "outputs": [],
   "source": []
  },
  {
   "cell_type": "markdown",
   "id": "4657001a",
   "metadata": {},
   "source": [
    "12.)  Create a 1D NumPy array with 15 equally spaced values from 0 to 5."
   ]
  },
  {
   "cell_type": "code",
   "execution_count": null,
   "id": "80982592",
   "metadata": {},
   "outputs": [],
   "source": []
  },
  {
   "cell_type": "markdown",
   "id": "18f82113",
   "metadata": {},
   "source": [
    "13.)   Create a 1D NumPy array with values from 0 to 4 (exclusively) incremented by 0.5."
   ]
  },
  {
   "cell_type": "code",
   "execution_count": null,
   "id": "bfa4c599",
   "metadata": {},
   "outputs": [],
   "source": []
  },
  {
   "cell_type": "markdown",
   "id": "2e80bb33",
   "metadata": {},
   "source": [
    "14.) Which function should we use when we know the number of points in our array?"
   ]
  },
  {
   "cell_type": "code",
   "execution_count": null,
   "id": "d244663d",
   "metadata": {},
   "outputs": [],
   "source": []
  },
  {
   "cell_type": "markdown",
   "id": "0c768353",
   "metadata": {},
   "source": [
    "15.) Which function should we use when we know the step size for our array?"
   ]
  },
  {
   "cell_type": "code",
   "execution_count": null,
   "id": "1bbb0f43",
   "metadata": {},
   "outputs": [],
   "source": []
  },
  {
   "cell_type": "markdown",
   "id": "e74dbff3",
   "metadata": {},
   "source": [
    "**Exercises: Part B**"
   ]
  },
  {
   "cell_type": "markdown",
   "id": "b6895b77",
   "metadata": {},
   "source": [
    "1.) Spell the letters \"L O V E\" using four 3 x 3 arrays, ie. one for each letter.\n",
    "* Only use 1's and 0's as elements"
   ]
  },
  {
   "attachments": {
    "Screen%20Shot%202022-06-17%20at%2012.25.10%20PM.png": {
     "image/png": "[encoded data removed]"
    }
   },
   "cell_type": "markdown",
   "id": "6fdea110",
   "metadata": {},
   "source": [
    "![Screen%20Shot%202022-06-17%20at%2012.25.10%20PM.png](attachment:Screen%20Shot%202022-06-17%20at%2012.25.10%20PM.png)"
   ]
  },
  {
   "cell_type": "code",
   "execution_count": null,
   "id": "b5bab9c5",
   "metadata": {},
   "outputs": [],
   "source": []
  },
  {
   "cell_type": "markdown",
   "id": "d016e6b4",
   "metadata": {},
   "source": [
    "2.) Create a smiley face using a 5 x 5 array of ones/zeros."
   ]
  },
  {
   "attachments": {
    "Screen%20Shot%202022-06-17%20at%2012.29.42%20PM.png": {
     "image/png": "[encoded data removed]"
    }
   },
   "cell_type": "markdown",
   "id": "01018739",
   "metadata": {},
   "source": [
    "![Screen%20Shot%202022-06-17%20at%2012.29.42%20PM.png](attachment:Screen%20Shot%202022-06-17%20at%2012.29.42%20PM.png)"
   ]
  },
  {
   "cell_type": "code",
   "execution_count": null,
   "id": "9ceaa615",
   "metadata": {},
   "outputs": [],
   "source": []
  },
  {
   "cell_type": "markdown",
   "id": "7c427769",
   "metadata": {},
   "source": [
    "3.) Spell your name using 4 x 3 arrays of ones/zeros for each letter:"
   ]
  },
  {
   "attachments": {
    "Screen%20Shot%202022-06-17%20at%2012.35.03%20PM.png": {
     "image/png": "[encoded data removed]"
    }
   },
   "cell_type": "markdown",
   "id": "938b0b35",
   "metadata": {},
   "source": [
    "![Screen%20Shot%202022-06-17%20at%2012.35.03%20PM.png](attachment:Screen%20Shot%202022-06-17%20at%2012.35.03%20PM.png)"
   ]
  },
  {
   "cell_type": "code",
   "execution_count": null,
   "id": "2fdc71d6",
   "metadata": {},
   "outputs": [],
   "source": []
  },
  {
   "cell_type": "markdown",
   "id": "0fb32e46",
   "metadata": {},
   "source": [
    "### Random Numbers"
   ]
  },
  {
   "cell_type": "markdown",
   "id": "bbf0252f",
   "metadata": {},
   "source": [
    "We can use `np.random` functions to generate NumPy arrays of random numbers sampled from different distributions.\n",
    "\n",
    "We will just look at the three functions listed below, though there are many others."
   ]
  },
  {
   "cell_type": "markdown",
   "id": "7027f2cc",
   "metadata": {},
   "source": [
    "| Function | Description |\n",
    "| :--- | :--- |\n",
    "| `np.random.rand(d1,...,dn)` | Create a NumPy array (with shape `(d1,...,dn)`) with entries sampled uniformly from `[0,1)` |\n",
    "| `np.random.randn(d1,...,dn)` | Create a NumPy array (with shape `(d1,...,dn)`) with entries sampled from the standard normal distribution |\n",
    "| `np.random.randint(a,b,size)` | Create a NumPy array (with shape `size`) with integer entries from `low` (inclusive) to `high` (exclusive) |"
   ]
  },
  {
   "cell_type": "markdown",
   "id": "eb6ea5df",
   "metadata": {},
   "source": [
    "**1. ``np.random.rand(d1,...,dn)``**"
   ]
  },
  {
   "cell_type": "markdown",
   "id": "d752ac98",
   "metadata": {},
   "source": [
    "We can use the function `np.random.rand()` to create an array of the given shape filled with random numbers between 0 and 1.\n",
    "\n",
    "For instance, to create a 2 x 4 array of random numbers between 0 and 1:"
   ]
  },
  {
   "cell_type": "code",
   "execution_count": 6,
   "id": "670feb92",
   "metadata": {},
   "outputs": [
    {
     "data": {
      "text/plain": [
       "array([[0.46504787, 0.08355537, 0.67712857, 0.66603649],\n",
       "       [0.57902641, 0.57755389, 0.49620424, 0.89043688]])"
      ]
     },
     "execution_count": 6,
     "metadata": {},
     "output_type": "execute_result"
    }
   ],
   "source": [
    "np.random.rand(2,4)"
   ]
  },
  {
   "cell_type": "markdown",
   "id": "4d7cc45b",
   "metadata": {},
   "source": [
    "Note that when using random number generators, running the code again will produce a different result:"
   ]
  },
  {
   "cell_type": "code",
   "execution_count": 7,
   "id": "dbe7b8c6",
   "metadata": {},
   "outputs": [
    {
     "data": {
      "text/plain": [
       "array([[0.31894998, 0.61562044, 0.08917713, 0.53764883],\n",
       "       [0.93715554, 0.00741699, 0.5548205 , 0.43080904]])"
      ]
     },
     "execution_count": 7,
     "metadata": {},
     "output_type": "execute_result"
    }
   ],
   "source": [
    "np.random.rand(2,4)"
   ]
  },
  {
   "cell_type": "markdown",
   "id": "dbd9b1c4",
   "metadata": {},
   "source": [
    "This is because each time the function is called, new random numbers are generated.\n",
    "\n"
   ]
  },
  {
   "cell_type": "markdown",
   "id": "b51b31ff",
   "metadata": {},
   "source": [
    "**2. ``np.random.randn(d1,...,dn)``**"
   ]
  },
  {
   "cell_type": "markdown",
   "id": "d40ed16e",
   "metadata": {},
   "source": [
    "We can use the function `np.random.rand()` to create an array of the given shape filled with random numbers from the standard Normal distribution.\n",
    "\n",
    "For the purpose of this course, just consider the standard Normal distribution as a large assortment of numbers that average to zero.\n",
    "\n",
    "For instance, to create a 3 x 3 array of random numbers sampled from the standard Normal distribution:"
   ]
  },
  {
   "cell_type": "code",
   "execution_count": 8,
   "id": "bde9b211",
   "metadata": {
    "scrolled": true
   },
   "outputs": [
    {
     "data": {
      "text/plain": [
       "array([[ 1.27888303, -1.24634068, -0.79936154],\n",
       "       [-0.04435215, -0.85450769,  1.01602431],\n",
       "       [ 0.09138062,  1.26417744,  0.38913109]])"
      ]
     },
     "execution_count": 8,
     "metadata": {},
     "output_type": "execute_result"
    }
   ],
   "source": [
    "np.random.randn(3,3)"
   ]
  },
  {
   "cell_type": "markdown",
   "id": "fbabd498",
   "metadata": {},
   "source": [
    "Notice that this time we get both positive/negative numbers as well as numbers larger than 1.\n",
    "\n",
    "As we'd expect, running the code again produces a different array:"
   ]
  },
  {
   "cell_type": "code",
   "execution_count": 9,
   "id": "2e2a1c06",
   "metadata": {},
   "outputs": [
    {
     "data": {
      "text/plain": [
       "array([[-0.13869682,  0.40091706, -0.25535545],\n",
       "       [ 0.28236007,  0.26949297,  0.28323323],\n",
       "       [-0.51862457,  0.45293084,  0.57288148]])"
      ]
     },
     "execution_count": 9,
     "metadata": {},
     "output_type": "execute_result"
    }
   ],
   "source": [
    "np.random.randn(3,3)"
   ]
  },
  {
   "cell_type": "markdown",
   "id": "89f37c6b",
   "metadata": {},
   "source": [
    "**3. `np.random.randint(a,b,size)`**"
   ]
  },
  {
   "cell_type": "markdown",
   "id": "1cd233ce",
   "metadata": {},
   "source": [
    "We can use the function `np.random.randint(a,b,size)` to create an array of the given size filled with random integers from the interval [a,b].\n",
    "\n",
    "For instance, to create a 5 x 2 array of random numbers between 0 and 50:"
   ]
  },
  {
   "cell_type": "code",
   "execution_count": 10,
   "id": "042dafdb",
   "metadata": {
    "scrolled": false
   },
   "outputs": [
    {
     "data": {
      "text/plain": [
       "array([[31, 12],\n",
       "       [44, 30],\n",
       "       [13, 32],\n",
       "       [26, 36],\n",
       "       [23, 39]])"
      ]
     },
     "execution_count": 10,
     "metadata": {},
     "output_type": "execute_result"
    }
   ],
   "source": [
    "np.random.randint(0,50,(5,2))"
   ]
  },
  {
   "cell_type": "markdown",
   "id": "1c0a57c4",
   "metadata": {},
   "source": [
    "Notice that in this case the function only produces integers, rather than decimals.\n",
    "\n",
    "And for a 1 x 1 array of random numbers between 1 and 10:"
   ]
  },
  {
   "cell_type": "code",
   "execution_count": 14,
   "id": "f0d202e6",
   "metadata": {},
   "outputs": [
    {
     "data": {
      "text/plain": [
       "array([[2]])"
      ]
     },
     "execution_count": 14,
     "metadata": {},
     "output_type": "execute_result"
    }
   ],
   "source": [
    "np.random.randint(0,10,(1,1))"
   ]
  },
  {
   "cell_type": "code",
   "execution_count": 15,
   "id": "30a35cee",
   "metadata": {},
   "outputs": [
    {
     "data": {
      "text/plain": [
       "array([[5]])"
      ]
     },
     "execution_count": 15,
     "metadata": {},
     "output_type": "execute_result"
    }
   ],
   "source": [
    "np.random.randint(0,10,(1,1))"
   ]
  },
  {
   "cell_type": "code",
   "execution_count": 16,
   "id": "dfebc047",
   "metadata": {},
   "outputs": [
    {
     "data": {
      "text/plain": [
       "array([[8]])"
      ]
     },
     "execution_count": 16,
     "metadata": {},
     "output_type": "execute_result"
    }
   ],
   "source": [
    "np.random.randint(0,10,(1,1))"
   ]
  },
  {
   "cell_type": "markdown",
   "id": "e1d8c702",
   "metadata": {},
   "source": [
    "**Exercises**"
   ]
  },
  {
   "cell_type": "markdown",
   "id": "5eea198b",
   "metadata": {},
   "source": [
    "1.) Create a 1D array of length 10 with randomly sampled numbers between 0 and 1."
   ]
  },
  {
   "cell_type": "code",
   "execution_count": null,
   "id": "8ca28f37",
   "metadata": {},
   "outputs": [],
   "source": []
  },
  {
   "cell_type": "markdown",
   "id": "ab22e926",
   "metadata": {},
   "source": [
    "2.) Create a 6 x 4 array of random numbers between 0 and 1."
   ]
  },
  {
   "cell_type": "code",
   "execution_count": null,
   "id": "3cf81b71",
   "metadata": {},
   "outputs": [],
   "source": []
  },
  {
   "cell_type": "markdown",
   "id": "fdc260fe",
   "metadata": {},
   "source": [
    "3.) Sample a single random number 5 times from the standard Normal distribution."
   ]
  },
  {
   "cell_type": "code",
   "execution_count": null,
   "id": "3f407bb8",
   "metadata": {},
   "outputs": [],
   "source": []
  },
  {
   "cell_type": "markdown",
   "id": "74f6f5c3",
   "metadata": {},
   "source": [
    "4.) Create a 3 x 3 array of values randomly sampled from the standard Normal distribution."
   ]
  },
  {
   "cell_type": "code",
   "execution_count": null,
   "id": "97873c55",
   "metadata": {},
   "outputs": [],
   "source": []
  },
  {
   "cell_type": "markdown",
   "id": "099cc67c",
   "metadata": {},
   "source": [
    "5.) Repeatedly sample 10 digits at a time from the interval [0,100].\n"
   ]
  },
  {
   "cell_type": "code",
   "execution_count": null,
   "id": "81bac7a8",
   "metadata": {},
   "outputs": [],
   "source": []
  },
  {
   "cell_type": "markdown",
   "id": "f83b1525",
   "metadata": {},
   "source": [
    "6.) Create a function which takes in the length of a random array and calculates the average of a random 1D array of that length."
   ]
  },
  {
   "cell_type": "code",
   "execution_count": null,
   "id": "8a0ce42c",
   "metadata": {},
   "outputs": [],
   "source": []
  },
  {
   "cell_type": "markdown",
   "id": "8fe896ab",
   "metadata": {},
   "source": [
    "### Array Attributes"
   ]
  },
  {
   "cell_type": "markdown",
   "id": "4841cc96",
   "metadata": {},
   "source": [
    "Now that we have learned several ways for creating an array, we will now look at how we can access certain attributes that describe our arrays."
   ]
  },
  {
   "cell_type": "markdown",
   "id": "5989144f",
   "metadata": {},
   "source": [
    "| Attribute | Description |\n",
    "| ---: | :--- |\n",
    "| `ndarray.ndim` | The number of axes (dimensions) of the array |\n",
    "| `ndarray.shape` | A tuple of integers indicating the size of the array in each dimension|\n",
    "| `ndarray.size` | The total number of elements of the array|\n",
    "| `ndarray.dtype` | Describes the type of the elements in the array|\n"
   ]
  },
  {
   "cell_type": "markdown",
   "id": "da9ab780",
   "metadata": {},
   "source": [
    "We will now look at each of these attributes in turn."
   ]
  },
  {
   "cell_type": "markdown",
   "id": "d3a9a423",
   "metadata": {},
   "source": [
    "**1. `ndarray.ndim`**"
   ]
  },
  {
   "cell_type": "markdown",
   "id": "8ae807a3",
   "metadata": {},
   "source": [
    "The `.ndim` attribute tells us what dimension our array is in.\n"
   ]
  },
  {
   "cell_type": "code",
   "execution_count": 3,
   "id": "b07186d9",
   "metadata": {
    "scrolled": true
   },
   "outputs": [
    {
     "data": {
      "text/plain": [
       "1"
      ]
     },
     "execution_count": 3,
     "metadata": {},
     "output_type": "execute_result"
    }
   ],
   "source": [
    "np.array([1,2,3]).ndim"
   ]
  },
  {
   "cell_type": "markdown",
   "id": "7346167d",
   "metadata": {},
   "source": [
    "We can see that a 1D array outputs the number of dimensions as 1."
   ]
  },
  {
   "cell_type": "code",
   "execution_count": 4,
   "id": "149b9483",
   "metadata": {
    "scrolled": true
   },
   "outputs": [
    {
     "data": {
      "text/plain": [
       "2"
      ]
     },
     "execution_count": 4,
     "metadata": {},
     "output_type": "execute_result"
    }
   ],
   "source": [
    "np.array([[12,71], [56,62]]).ndim"
   ]
  },
  {
   "cell_type": "markdown",
   "id": "ab6f37f1",
   "metadata": {},
   "source": [
    "We can see that a 2D array outputs the number of dimensions as 2."
   ]
  },
  {
   "cell_type": "code",
   "execution_count": 5,
   "id": "a5ee5d83",
   "metadata": {},
   "outputs": [
    {
     "data": {
      "text/plain": [
       "3"
      ]
     },
     "execution_count": 5,
     "metadata": {},
     "output_type": "execute_result"
    }
   ],
   "source": [
    "np.array([[[5,6,7], [3,1,2], [9,4,8]]]).ndim"
   ]
  },
  {
   "cell_type": "markdown",
   "id": "26b45c2b",
   "metadata": {},
   "source": [
    "We can see that a 3D array outputs the number of dimensions as 3."
   ]
  },
  {
   "cell_type": "markdown",
   "id": "0a61ea6b",
   "metadata": {},
   "source": [
    "**2. `ndarray.shape`**"
   ]
  },
  {
   "cell_type": "markdown",
   "id": "543a4b2d",
   "metadata": {},
   "source": [
    "The `.shape` attribute gives us the tuple with the size of each dimension."
   ]
  },
  {
   "cell_type": "markdown",
   "id": "d71f64c2",
   "metadata": {},
   "source": [
    "So a 7 x 7 array would produce `(7, 7)` and a 3 x 4 x 5 array would produce `(3, 4, 5)`.\n",
    "\n",
    "The `.shape` output is identical to the first dimensional parameter in the `np.full()` method we looked at earlier."
   ]
  },
  {
   "cell_type": "code",
   "execution_count": 13,
   "id": "01736ccc",
   "metadata": {},
   "outputs": [
    {
     "name": "stdout",
     "output_type": "stream",
     "text": [
      "[[1 1 1 1 1 1 1]\n",
      " [1 1 1 1 1 1 1]\n",
      " [1 1 1 1 1 1 1]\n",
      " [1 1 1 1 1 1 1]\n",
      " [1 1 1 1 1 1 1]\n",
      " [1 1 1 1 1 1 1]\n",
      " [1 1 1 1 1 1 1]]\n"
     ]
    }
   ],
   "source": [
    "a = np.full((7,7),1)\n",
    "print(a)"
   ]
  },
  {
   "cell_type": "code",
   "execution_count": 14,
   "id": "46291548",
   "metadata": {},
   "outputs": [
    {
     "data": {
      "text/plain": [
       "(7, 7)"
      ]
     },
     "execution_count": 14,
     "metadata": {},
     "output_type": "execute_result"
    }
   ],
   "source": [
    "a.shape"
   ]
  },
  {
   "cell_type": "code",
   "execution_count": 15,
   "id": "573ea18d",
   "metadata": {},
   "outputs": [
    {
     "name": "stdout",
     "output_type": "stream",
     "text": [
      "[[[2 2 2 2 2]\n",
      "  [2 2 2 2 2]\n",
      "  [2 2 2 2 2]\n",
      "  [2 2 2 2 2]]\n",
      "\n",
      " [[2 2 2 2 2]\n",
      "  [2 2 2 2 2]\n",
      "  [2 2 2 2 2]\n",
      "  [2 2 2 2 2]]\n",
      "\n",
      " [[2 2 2 2 2]\n",
      "  [2 2 2 2 2]\n",
      "  [2 2 2 2 2]\n",
      "  [2 2 2 2 2]]]\n"
     ]
    }
   ],
   "source": [
    "b = np.full((3,4,5), 2)\n",
    "print(b)"
   ]
  },
  {
   "cell_type": "code",
   "execution_count": 16,
   "id": "56ea6344",
   "metadata": {},
   "outputs": [
    {
     "data": {
      "text/plain": [
       "(3, 4, 5)"
      ]
     },
     "execution_count": 16,
     "metadata": {},
     "output_type": "execute_result"
    }
   ],
   "source": [
    "b.shape"
   ]
  },
  {
   "cell_type": "markdown",
   "id": "18c4a553",
   "metadata": {},
   "source": [
    "We see that in both cases the first input to `np.full()` matched the output of the `.shape` attribute."
   ]
  },
  {
   "cell_type": "markdown",
   "id": "47183a28",
   "metadata": {},
   "source": [
    "**3. `ndarray.size`**"
   ]
  },
  {
   "cell_type": "markdown",
   "id": "868712c3",
   "metadata": {},
   "source": [
    "The `.size` attribute outputs the total count of the number of elements in our array.\n",
    "\n",
    "So if we made a 10 x 10 array, we should expect to have 100 total elements."
   ]
  },
  {
   "cell_type": "code",
   "execution_count": 10,
   "id": "729bbf59",
   "metadata": {
    "scrolled": true
   },
   "outputs": [
    {
     "name": "stdout",
     "output_type": "stream",
     "text": [
      "[[1 1 1 1 1 1 1 1 1 1]\n",
      " [1 1 1 1 1 1 1 1 1 1]\n",
      " [1 1 1 1 1 1 1 1 1 1]\n",
      " [1 1 1 1 1 1 1 1 1 1]\n",
      " [1 1 1 1 1 1 1 1 1 1]\n",
      " [1 1 1 1 1 1 1 1 1 1]\n",
      " [1 1 1 1 1 1 1 1 1 1]\n",
      " [1 1 1 1 1 1 1 1 1 1]\n",
      " [1 1 1 1 1 1 1 1 1 1]\n",
      " [1 1 1 1 1 1 1 1 1 1]]\n"
     ]
    }
   ],
   "source": [
    "t = np.full((10,10), 1)\n",
    "print(t)"
   ]
  },
  {
   "cell_type": "code",
   "execution_count": 9,
   "id": "1021e93c",
   "metadata": {},
   "outputs": [
    {
     "data": {
      "text/plain": [
       "100"
      ]
     },
     "execution_count": 9,
     "metadata": {},
     "output_type": "execute_result"
    }
   ],
   "source": [
    "t.size"
   ]
  },
  {
   "cell_type": "markdown",
   "id": "267d953b",
   "metadata": {},
   "source": [
    "**4. `ndarray.dtype`**"
   ]
  },
  {
   "cell_type": "markdown",
   "id": "3cbe37e7",
   "metadata": {},
   "source": [
    "The `.dtype` attribute gives us the Python data type of the elements in our array."
   ]
  },
  {
   "cell_type": "markdown",
   "id": "6a153938",
   "metadata": {},
   "source": [
    "If we construct an array with integers, we should recieve the data type 'int64'.\n",
    "\n",
    "If we construct an array with floating point numbers, we should recieve the data type 'float64'."
   ]
  },
  {
   "cell_type": "code",
   "execution_count": 26,
   "id": "fd4ce824",
   "metadata": {},
   "outputs": [
    {
     "data": {
      "text/plain": [
       "dtype('int64')"
      ]
     },
     "execution_count": 26,
     "metadata": {},
     "output_type": "execute_result"
    }
   ],
   "source": [
    "u = np.array([[1,2], [5,9]])\n",
    "u.dtype"
   ]
  },
  {
   "cell_type": "code",
   "execution_count": 28,
   "id": "72e4bdbd",
   "metadata": {},
   "outputs": [
    {
     "data": {
      "text/plain": [
       "dtype('float64')"
      ]
     },
     "execution_count": 28,
     "metadata": {},
     "output_type": "execute_result"
    }
   ],
   "source": [
    "v = np.linspace(0,5,10)\n",
    "v.dtype"
   ]
  },
  {
   "cell_type": "markdown",
   "id": "5180be3c",
   "metadata": {},
   "source": [
    "**Exercises: Part A**"
   ]
  },
  {
   "cell_type": "markdown",
   "id": "aa330c53",
   "metadata": {},
   "source": [
    "1.) Use `np.ones()` to create three arrays of different dimensions and try to figure out their number of dimensions without using `.ndim`"
   ]
  },
  {
   "cell_type": "code",
   "execution_count": null,
   "id": "6bfe0b14",
   "metadata": {},
   "outputs": [],
   "source": []
  },
  {
   "cell_type": "markdown",
   "id": "555d407f",
   "metadata": {},
   "source": [
    "2.) Use `.ndim` verify your answers for the previous question."
   ]
  },
  {
   "cell_type": "code",
   "execution_count": null,
   "id": "3bf7ca28",
   "metadata": {},
   "outputs": [],
   "source": []
  },
  {
   "cell_type": "markdown",
   "id": "3f0fe5a8",
   "metadata": {},
   "source": [
    "3.) Use `np.zeros()` to create three arrays of different dimensions and try to figure out their number of dimensions without using `.ndim`."
   ]
  },
  {
   "cell_type": "code",
   "execution_count": null,
   "id": "61260960",
   "metadata": {},
   "outputs": [],
   "source": []
  },
  {
   "cell_type": "markdown",
   "id": "799577d3",
   "metadata": {},
   "source": [
    "4.) Use `.ndim` verify your answers for the previous question."
   ]
  },
  {
   "cell_type": "code",
   "execution_count": null,
   "id": "dcc46b93",
   "metadata": {},
   "outputs": [],
   "source": []
  },
  {
   "cell_type": "markdown",
   "id": "42e024dd",
   "metadata": {},
   "source": [
    "5.) Use `np.eye()` to create three arrays of different shapes and try to figure out their shape without using `.shape`"
   ]
  },
  {
   "cell_type": "code",
   "execution_count": null,
   "id": "29b5248f",
   "metadata": {},
   "outputs": [],
   "source": []
  },
  {
   "cell_type": "markdown",
   "id": "6f3c4c0a",
   "metadata": {},
   "source": [
    "6.) Use `.shape` verify your answers for the previous question."
   ]
  },
  {
   "cell_type": "code",
   "execution_count": null,
   "id": "305d4101",
   "metadata": {},
   "outputs": [],
   "source": []
  },
  {
   "cell_type": "markdown",
   "id": "da6b4c42",
   "metadata": {},
   "source": [
    "7.) Use `np.full()` to create three arrays of different shapes and try to figure out their shape without using `.shape`"
   ]
  },
  {
   "cell_type": "code",
   "execution_count": null,
   "id": "173fa932",
   "metadata": {},
   "outputs": [],
   "source": []
  },
  {
   "cell_type": "markdown",
   "id": "56f9198f",
   "metadata": {},
   "source": [
    "8.) Use `.shape` verify your answers for the previous question."
   ]
  },
  {
   "cell_type": "code",
   "execution_count": null,
   "id": "1fbb5ee3",
   "metadata": {},
   "outputs": [],
   "source": []
  },
  {
   "cell_type": "markdown",
   "id": "f5f51eb9",
   "metadata": {},
   "source": [
    "9.) Use a random array function of your choice to create three arrays of different sizes and try to figure out their size without using `.size`."
   ]
  },
  {
   "cell_type": "code",
   "execution_count": null,
   "id": "e88d54d9",
   "metadata": {},
   "outputs": [],
   "source": []
  },
  {
   "cell_type": "markdown",
   "id": "a8f32486",
   "metadata": {},
   "source": [
    "10.) Use `.size` verify your answers for the previous question."
   ]
  },
  {
   "cell_type": "code",
   "execution_count": null,
   "id": "74595b19",
   "metadata": {},
   "outputs": [],
   "source": []
  },
  {
   "cell_type": "markdown",
   "id": "6de44e69",
   "metadata": {},
   "source": [
    "11.) Create three arrays of different data types and try to figure out their data type without using `.dtype`."
   ]
  },
  {
   "cell_type": "code",
   "execution_count": null,
   "id": "bd46edfd",
   "metadata": {},
   "outputs": [],
   "source": []
  },
  {
   "cell_type": "markdown",
   "id": "5ffc38dc",
   "metadata": {},
   "source": [
    "12.) Use `.dtype` verify your answers for the previous question."
   ]
  },
  {
   "cell_type": "code",
   "execution_count": null,
   "id": "b336c5a7",
   "metadata": {},
   "outputs": [],
   "source": []
  },
  {
   "cell_type": "markdown",
   "id": "82dd7c17",
   "metadata": {},
   "source": [
    "**Exercises: Part B**"
   ]
  },
  {
   "cell_type": "markdown",
   "id": "1e08262f",
   "metadata": {},
   "source": [
    "1.) Create a function that takes in two NumPy arrays and prints three statements:\n",
    "* The datatype of the elements in the first array are ____\n",
    "* The datatype of the elements in the second array are ____\n",
    "* These two arrays have the same/different types"
   ]
  },
  {
   "cell_type": "code",
   "execution_count": null,
   "id": "f24da5af",
   "metadata": {},
   "outputs": [],
   "source": []
  },
  {
   "cell_type": "markdown",
   "id": "7754e4e5",
   "metadata": {},
   "source": [
    "2.) Create a function that takes in two NumPy array and prints either:\n",
    "* The first/second array is bigger because it has ____ more elements\n",
    "* Both arrays have ___ elements\n"
   ]
  },
  {
   "cell_type": "code",
   "execution_count": null,
   "id": "02986175",
   "metadata": {},
   "outputs": [],
   "source": []
  },
  {
   "cell_type": "markdown",
   "id": "a7fce569",
   "metadata": {},
   "source": [
    "3.) Create a function (without using `.size`) that takes in two NumPy arrays and  prints either:\n",
    "* The first/second array is smaller because it has ___ less elements\n",
    "* Both arrays have ___ elements"
   ]
  },
  {
   "cell_type": "code",
   "execution_count": null,
   "id": "f38f21a8",
   "metadata": {},
   "outputs": [],
   "source": []
  },
  {
   "cell_type": "markdown",
   "id": "95525de3",
   "metadata": {},
   "source": [
    "4.) Create a function that takes in two NumPy arrays and  prints either:\n",
    "* The first/second array has ____ more dimensions\n",
    "* Both arrays have ___ dimension(s)"
   ]
  },
  {
   "cell_type": "code",
   "execution_count": null,
   "id": "1d217300",
   "metadata": {},
   "outputs": [],
   "source": []
  },
  {
   "cell_type": "markdown",
   "id": "711402d2",
   "metadata": {},
   "source": [
    "### Basic Operations "
   ]
  },
  {
   "cell_type": "markdown",
   "id": "53f1d117",
   "metadata": {},
   "source": [
    "Arithmetic operators on arrays are applied  elementwise, ie. on the individual elements of arrays.\n",
    "\n",
    "This way of performing operations is fairly intuitive and is perhaps what you would expect to happen.\n",
    "\n",
    "For example, if we wanted to add the following two arrays:\n",
    "\n"
   ]
  },
  {
   "cell_type": "code",
   "execution_count": 52,
   "id": "db620e48",
   "metadata": {},
   "outputs": [
    {
     "name": "stdout",
     "output_type": "stream",
     "text": [
      "[[1 2]\n",
      " [0 3]]\n"
     ]
    }
   ],
   "source": [
    "a = np.array([[1,2],[0,3]])\n",
    "print(a)"
   ]
  },
  {
   "cell_type": "code",
   "execution_count": 53,
   "id": "1a0de32e",
   "metadata": {
    "scrolled": true
   },
   "outputs": [
    {
     "name": "stdout",
     "output_type": "stream",
     "text": [
      "[[4 1]\n",
      " [2 2]]\n"
     ]
    }
   ],
   "source": [
    "b = np.array([[4,1],[2,2]])\n",
    "print(b)"
   ]
  },
  {
   "cell_type": "code",
   "execution_count": 38,
   "id": "681a05d2",
   "metadata": {},
   "outputs": [
    {
     "name": "stdout",
     "output_type": "stream",
     "text": [
      "[[5 3]\n",
      " [2 5]]\n"
     ]
    }
   ],
   "source": [
    "print(a+b)"
   ]
  },
  {
   "cell_type": "markdown",
   "id": "2d43cb27",
   "metadata": {},
   "source": [
    "We can see that each array element is added to its corresponding element in the other array.\n",
    "\n",
    "Note that elementwise subtraction works in the same way."
   ]
  },
  {
   "attachments": {
    "elementwise-sum-of-numpy-arrays-768x444.png.webp": {
     "image/webp": "[encoded data removed]"
    }
   },
   "cell_type": "markdown",
   "id": "bb1f55fb",
   "metadata": {},
   "source": [
    "![elementwise-sum-of-numpy-arrays-768x444.png.webp](attachment:elementwise-sum-of-numpy-arrays-768x444.png.webp)"
   ]
  },
  {
   "cell_type": "markdown",
   "id": "572cb2c0",
   "metadata": {},
   "source": [
    "We will now look at elementwise multiplication, though elementwise division follows the same rules."
   ]
  },
  {
   "cell_type": "code",
   "execution_count": 32,
   "id": "9ee0e38b",
   "metadata": {},
   "outputs": [
    {
     "name": "stdout",
     "output_type": "stream",
     "text": [
      "[1 2 0 5]\n"
     ]
    }
   ],
   "source": [
    "m = np.array([1,2,0,5])\n",
    "print(m)"
   ]
  },
  {
   "cell_type": "code",
   "execution_count": 33,
   "id": "e7391c9e",
   "metadata": {},
   "outputs": [
    {
     "name": "stdout",
     "output_type": "stream",
     "text": [
      "[3 1 7 1]\n"
     ]
    }
   ],
   "source": [
    "n = np.array([3,1,7,1])\n",
    "print(n)"
   ]
  },
  {
   "cell_type": "code",
   "execution_count": 34,
   "id": "ed3fe616",
   "metadata": {},
   "outputs": [
    {
     "name": "stdout",
     "output_type": "stream",
     "text": [
      "[3 2 0 5]\n"
     ]
    }
   ],
   "source": [
    "print(m*n)"
   ]
  },
  {
   "cell_type": "markdown",
   "id": "f0e393bc",
   "metadata": {},
   "source": [
    "We can see that each array element is multiplied with its corresponding element in the other array."
   ]
  },
  {
   "attachments": {
    "elementwise-multiplication-of-numpy-arrays.webp": {
     "image/webp": "[encoded data removed]"
    }
   },
   "cell_type": "markdown",
   "id": "5c5a112c",
   "metadata": {},
   "source": [
    "![elementwise-multiplication-of-numpy-arrays.webp](attachment:elementwise-multiplication-of-numpy-arrays.webp)"
   ]
  },
  {
   "cell_type": "markdown",
   "id": "36dfd68a",
   "metadata": {},
   "source": [
    "We can also use arithmetic operators to perform elementwise operations on a single array.\n",
    "\n",
    "We will now show some examples of this."
   ]
  },
  {
   "cell_type": "code",
   "execution_count": 34,
   "id": "71cdd17f",
   "metadata": {},
   "outputs": [
    {
     "name": "stdout",
     "output_type": "stream",
     "text": [
      "[[2 4]\n",
      " [6 8]]\n"
     ]
    }
   ],
   "source": [
    "a = np.array([[2,4],[6,8]])\n",
    "print(a)"
   ]
  },
  {
   "cell_type": "markdown",
   "id": "683113af",
   "metadata": {},
   "source": [
    "Here we add 2 to each value in the array:"
   ]
  },
  {
   "cell_type": "code",
   "execution_count": 44,
   "id": "f260705c",
   "metadata": {
    "scrolled": true
   },
   "outputs": [
    {
     "name": "stdout",
     "output_type": "stream",
     "text": [
      "[[ 4  6]\n",
      " [ 8 10]]\n"
     ]
    }
   ],
   "source": [
    "print(a+2)"
   ]
  },
  {
   "cell_type": "markdown",
   "id": "8da34505",
   "metadata": {},
   "source": [
    "Here we subtract 2 from each value in the array:"
   ]
  },
  {
   "cell_type": "code",
   "execution_count": 45,
   "id": "ee064c47",
   "metadata": {},
   "outputs": [
    {
     "name": "stdout",
     "output_type": "stream",
     "text": [
      "[[0 2]\n",
      " [4 6]]\n"
     ]
    }
   ],
   "source": [
    "print(a-2)"
   ]
  },
  {
   "cell_type": "markdown",
   "id": "b0252cc1",
   "metadata": {},
   "source": [
    "Here we multiply each value in the array by 2:"
   ]
  },
  {
   "cell_type": "code",
   "execution_count": 46,
   "id": "7aee4771",
   "metadata": {
    "scrolled": true
   },
   "outputs": [
    {
     "name": "stdout",
     "output_type": "stream",
     "text": [
      "[[ 4  8]\n",
      " [12 16]]\n"
     ]
    }
   ],
   "source": [
    "print(a*2)"
   ]
  },
  {
   "cell_type": "markdown",
   "id": "1a2d522c",
   "metadata": {},
   "source": [
    "Here we divide each value in the array by 2:"
   ]
  },
  {
   "cell_type": "code",
   "execution_count": 47,
   "id": "45a071a6",
   "metadata": {
    "scrolled": false
   },
   "outputs": [
    {
     "name": "stdout",
     "output_type": "stream",
     "text": [
      "[[1. 2.]\n",
      " [3. 4.]]\n"
     ]
    }
   ],
   "source": [
    "print(a/2)"
   ]
  },
  {
   "cell_type": "markdown",
   "id": "aefbc9ca",
   "metadata": {},
   "source": [
    "Note that dividing by zero will produce a RuntimeWarning:"
   ]
  },
  {
   "cell_type": "code",
   "execution_count": null,
   "id": "0de4069f",
   "metadata": {},
   "outputs": [],
   "source": [
    "print(a/0)"
   ]
  },
  {
   "cell_type": "markdown",
   "id": "84f74128",
   "metadata": {},
   "source": [
    "Here we square each value in the array:"
   ]
  },
  {
   "cell_type": "code",
   "execution_count": 48,
   "id": "9af19561",
   "metadata": {
    "scrolled": true
   },
   "outputs": [
    {
     "name": "stdout",
     "output_type": "stream",
     "text": [
      "[[ 4 16]\n",
      " [36 64]]\n"
     ]
    }
   ],
   "source": [
    "print(a**2)"
   ]
  },
  {
   "cell_type": "markdown",
   "id": "6cdc5274",
   "metadata": {},
   "source": [
    "Here we perform integer division on each value in the array:"
   ]
  },
  {
   "cell_type": "code",
   "execution_count": 49,
   "id": "c50398c7",
   "metadata": {
    "scrolled": true
   },
   "outputs": [
    {
     "name": "stdout",
     "output_type": "stream",
     "text": [
      "[[1 2]\n",
      " [3 4]]\n"
     ]
    }
   ],
   "source": [
    "print(a//2)"
   ]
  },
  {
   "cell_type": "markdown",
   "id": "5ee6b170",
   "metadata": {},
   "source": [
    "Here we use the modulo operator on each value in the array:"
   ]
  },
  {
   "cell_type": "code",
   "execution_count": 51,
   "id": "f99d49af",
   "metadata": {
    "scrolled": true
   },
   "outputs": [
    {
     "name": "stdout",
     "output_type": "stream",
     "text": [
      "[[0 0]\n",
      " [0 0]]\n"
     ]
    }
   ],
   "source": [
    "print(a%2)"
   ]
  },
  {
   "cell_type": "markdown",
   "id": "f4e8245d",
   "metadata": {},
   "source": [
    "**Exercises: Part A**"
   ]
  },
  {
   "cell_type": "code",
   "execution_count": 19,
   "id": "24d302d9",
   "metadata": {},
   "outputs": [
    {
     "name": "stdout",
     "output_type": "stream",
     "text": [
      "[1. 2. 3. 4. 5.]\n"
     ]
    }
   ],
   "source": [
    "g = np.linspace(1,5,5)\n",
    "print(g)"
   ]
  },
  {
   "cell_type": "code",
   "execution_count": 18,
   "id": "504dd2c7",
   "metadata": {
    "scrolled": true
   },
   "outputs": [
    {
     "name": "stdout",
     "output_type": "stream",
     "text": [
      "[ 6.  7.  8.  9. 10.]\n"
     ]
    }
   ],
   "source": [
    "h = np.linspace(6,10,5)\n",
    "print(h)"
   ]
  },
  {
   "cell_type": "markdown",
   "id": "818464b4",
   "metadata": {},
   "source": [
    "1.) Using the two arrays defined above, predict the result of `g+8`."
   ]
  },
  {
   "cell_type": "code",
   "execution_count": null,
   "id": "c020a8e7",
   "metadata": {},
   "outputs": [],
   "source": []
  },
  {
   "cell_type": "markdown",
   "id": "b4f774e1",
   "metadata": {},
   "source": [
    "2.) Using the two arrays defined above, predict the result of `h-5`."
   ]
  },
  {
   "cell_type": "code",
   "execution_count": null,
   "id": "0ddea8ca",
   "metadata": {},
   "outputs": [],
   "source": []
  },
  {
   "cell_type": "markdown",
   "id": "c315e6e7",
   "metadata": {},
   "source": [
    "3.) Using the two arrays defined above, predict the result of `h*1.5`."
   ]
  },
  {
   "cell_type": "code",
   "execution_count": null,
   "id": "4cd02e89",
   "metadata": {},
   "outputs": [],
   "source": []
  },
  {
   "cell_type": "markdown",
   "id": "11e1ee96",
   "metadata": {},
   "source": [
    "4.) Using the two arrays defined above, predict the result of `g/2`."
   ]
  },
  {
   "cell_type": "code",
   "execution_count": null,
   "id": "438d28e3",
   "metadata": {},
   "outputs": [],
   "source": []
  },
  {
   "cell_type": "markdown",
   "id": "4a896d8a",
   "metadata": {},
   "source": [
    "5.) Using the two arrays defined above, predict the result of `g**2`."
   ]
  },
  {
   "cell_type": "code",
   "execution_count": null,
   "id": "2b0cc601",
   "metadata": {},
   "outputs": [],
   "source": []
  },
  {
   "cell_type": "markdown",
   "id": "5e3a5b53",
   "metadata": {},
   "source": [
    "6.) Using the two arrays defined above, predict the result of `h%3`."
   ]
  },
  {
   "cell_type": "code",
   "execution_count": null,
   "id": "e2cfe778",
   "metadata": {},
   "outputs": [],
   "source": []
  },
  {
   "cell_type": "markdown",
   "id": "fcfbfba6",
   "metadata": {},
   "source": [
    "7.) Using the two arrays defined above, predict the result of `h//2`."
   ]
  },
  {
   "cell_type": "code",
   "execution_count": null,
   "id": "45490f61",
   "metadata": {},
   "outputs": [],
   "source": []
  },
  {
   "cell_type": "markdown",
   "id": "f3b4c5c5",
   "metadata": {},
   "source": [
    "8.) Using the two arrays defined above, predict the result of `g+h`."
   ]
  },
  {
   "cell_type": "code",
   "execution_count": null,
   "id": "5b22c4ff",
   "metadata": {},
   "outputs": [],
   "source": []
  },
  {
   "cell_type": "markdown",
   "id": "e29f72e7",
   "metadata": {},
   "source": [
    "9.) Using the two arrays defined above, predict the result of `h-g`."
   ]
  },
  {
   "cell_type": "code",
   "execution_count": null,
   "id": "fe1e28f0",
   "metadata": {},
   "outputs": [],
   "source": []
  },
  {
   "cell_type": "markdown",
   "id": "34c5d4ba",
   "metadata": {},
   "source": [
    "10.) Using the two arrays defined above, predict the result of `g*h`."
   ]
  },
  {
   "cell_type": "code",
   "execution_count": null,
   "id": "5a51656f",
   "metadata": {},
   "outputs": [],
   "source": []
  },
  {
   "cell_type": "markdown",
   "id": "c078720c",
   "metadata": {},
   "source": [
    "11.) Using the two arrays defined above, predict the result of `h/g`."
   ]
  },
  {
   "cell_type": "code",
   "execution_count": null,
   "id": "29d08365",
   "metadata": {},
   "outputs": [],
   "source": []
  },
  {
   "cell_type": "markdown",
   "id": "51b0075f",
   "metadata": {},
   "source": [
    "12.) Using the two arrays defined above, predict the result of `h**g`."
   ]
  },
  {
   "cell_type": "code",
   "execution_count": null,
   "id": "37d7daec",
   "metadata": {},
   "outputs": [],
   "source": []
  },
  {
   "cell_type": "markdown",
   "id": "7e6e4834",
   "metadata": {},
   "source": [
    "**Exercises: Part B**"
   ]
  },
  {
   "cell_type": "code",
   "execution_count": 3,
   "id": "42847833",
   "metadata": {},
   "outputs": [
    {
     "name": "stdout",
     "output_type": "stream",
     "text": [
      "[[3 6 1]\n",
      " [9 5 2]\n",
      " [8 2 4]]\n"
     ]
    }
   ],
   "source": [
    "A = np.array([[3,6,1],[9,5,2],[8,2,4]])\n",
    "print(A)"
   ]
  },
  {
   "cell_type": "code",
   "execution_count": 32,
   "id": "e981257c",
   "metadata": {
    "scrolled": true
   },
   "outputs": [
    {
     "name": "stdout",
     "output_type": "stream",
     "text": [
      "[[4 8 2]\n",
      " [3 1 6]\n",
      " [5 2 7]]\n"
     ]
    }
   ],
   "source": [
    "B = np.array([[4,8,2],[3,1,6],[5,2,7]])\n",
    "print(B)"
   ]
  },
  {
   "cell_type": "markdown",
   "id": "38cb0035",
   "metadata": {},
   "source": [
    "1.) Using the two arrays defined above, predict the result of `A+6`."
   ]
  },
  {
   "cell_type": "code",
   "execution_count": null,
   "id": "bb334906",
   "metadata": {},
   "outputs": [],
   "source": []
  },
  {
   "cell_type": "markdown",
   "id": "f4ce1b41",
   "metadata": {},
   "source": [
    "2.) Using the two arrays defined above, predict the result of `B-3`."
   ]
  },
  {
   "cell_type": "code",
   "execution_count": null,
   "id": "ce460a89",
   "metadata": {},
   "outputs": [],
   "source": []
  },
  {
   "cell_type": "markdown",
   "id": "7b351df4",
   "metadata": {},
   "source": [
    "3.) Using the two arrays defined above, predict the result of `B*2.0`."
   ]
  },
  {
   "cell_type": "code",
   "execution_count": null,
   "id": "9b2b713f",
   "metadata": {},
   "outputs": [],
   "source": []
  },
  {
   "cell_type": "markdown",
   "id": "7e5b3710",
   "metadata": {},
   "source": [
    "4.) Using the two arrays defined above, predict the result of `A/2`."
   ]
  },
  {
   "cell_type": "code",
   "execution_count": null,
   "id": "9b8647d8",
   "metadata": {},
   "outputs": [],
   "source": []
  },
  {
   "cell_type": "markdown",
   "id": "3f84f025",
   "metadata": {},
   "source": [
    "5.) Using the two arrays defined above, predict the result of `B**2`."
   ]
  },
  {
   "cell_type": "code",
   "execution_count": null,
   "id": "9bd3d67d",
   "metadata": {},
   "outputs": [],
   "source": []
  },
  {
   "cell_type": "markdown",
   "id": "e67ddb15",
   "metadata": {},
   "source": [
    "6.) Using the two arrays defined above, predict the result of `A%3`."
   ]
  },
  {
   "cell_type": "code",
   "execution_count": null,
   "id": "1f2dc9cd",
   "metadata": {},
   "outputs": [],
   "source": []
  },
  {
   "cell_type": "markdown",
   "id": "81d068af",
   "metadata": {},
   "source": [
    "7.) Using the two arrays defined above, predict the result of `B//2`."
   ]
  },
  {
   "cell_type": "code",
   "execution_count": null,
   "id": "b1515df3",
   "metadata": {},
   "outputs": [],
   "source": []
  },
  {
   "cell_type": "markdown",
   "id": "4708f530",
   "metadata": {},
   "source": [
    "8.) Using the two arrays defined above, predict the result of `B+A`."
   ]
  },
  {
   "cell_type": "code",
   "execution_count": null,
   "id": "0d03749f",
   "metadata": {},
   "outputs": [],
   "source": []
  },
  {
   "cell_type": "markdown",
   "id": "197fb7c9",
   "metadata": {},
   "source": [
    "9.) Using the two arrays defined above, predict the result of `B-A`."
   ]
  },
  {
   "cell_type": "code",
   "execution_count": null,
   "id": "87086138",
   "metadata": {},
   "outputs": [],
   "source": []
  },
  {
   "cell_type": "markdown",
   "id": "61e8905a",
   "metadata": {},
   "source": [
    "10.) Using the two arrays defined above, predict the result of `A*B`."
   ]
  },
  {
   "cell_type": "code",
   "execution_count": null,
   "id": "4626ed50",
   "metadata": {},
   "outputs": [],
   "source": []
  },
  {
   "cell_type": "markdown",
   "id": "ae46b404",
   "metadata": {},
   "source": [
    "11.) Using the two arrays defined above, predict the result of `A/B`."
   ]
  },
  {
   "cell_type": "code",
   "execution_count": null,
   "id": "b43db2c7",
   "metadata": {},
   "outputs": [],
   "source": []
  },
  {
   "cell_type": "markdown",
   "id": "b49bd225",
   "metadata": {},
   "source": [
    "12.) Using the two arrays defined above, predict the result of `A**B`."
   ]
  },
  {
   "cell_type": "code",
   "execution_count": null,
   "id": "f0e318b6",
   "metadata": {},
   "outputs": [],
   "source": []
  },
  {
   "cell_type": "markdown",
   "id": "6e260f3d",
   "metadata": {},
   "source": [
    "**Broadcasting**"
   ]
  },
  {
   "cell_type": "markdown",
   "id": "069fe073",
   "metadata": {},
   "source": [
    "Broadcasting describes how NumPy treats arrays with different shapes during arithmetic operations.\n",
    "\n",
    "For example, say that we wanted to find the values for $y=x^2 + 1$ for some range of x values.\n",
    "\n",
    "NumPy allows us to easily perform this operation:"
   ]
  },
  {
   "cell_type": "code",
   "execution_count": 36,
   "id": "49abdceb",
   "metadata": {},
   "outputs": [
    {
     "name": "stdout",
     "output_type": "stream",
     "text": [
      "[0.  0.2 0.4 0.6 0.8 1. ]\n",
      "[1.   1.04 1.16 1.36 1.64 2.  ]\n"
     ]
    }
   ],
   "source": [
    "x = np.linspace(0,1,6)\n",
    "print(x)\n",
    "y = x**2 + 1\n",
    "print(y)"
   ]
  },
  {
   "cell_type": "markdown",
   "id": "3e01dc98",
   "metadata": {},
   "source": [
    "We see that NumPy performed the elementwise operation of squaring each value in our range and then adding 1 to it.\n",
    "\n",
    "This will be an especially helpful feature when we look at plotting in Matplotlib."
   ]
  },
  {
   "cell_type": "markdown",
   "id": "af09fd5c",
   "metadata": {},
   "source": [
    "**Exercises**"
   ]
  },
  {
   "cell_type": "markdown",
   "id": "63f3e54f",
   "metadata": {},
   "source": [
    "1.) Find the values for $y= \\sin(x)$ for 10 x-values from to $[0, 2\\pi]$:"
   ]
  },
  {
   "cell_type": "code",
   "execution_count": null,
   "id": "3498165a",
   "metadata": {},
   "outputs": [],
   "source": []
  },
  {
   "cell_type": "markdown",
   "id": "10458e14",
   "metadata": {},
   "source": [
    "2.) Find the values for $z= x^2 + y^2$ for with $x = [2,4,6,8]$ and $y = [3,5,7,9]$:"
   ]
  },
  {
   "cell_type": "code",
   "execution_count": null,
   "id": "dc685a20",
   "metadata": {},
   "outputs": [],
   "source": []
  },
  {
   "cell_type": "markdown",
   "id": "47eb1bb1",
   "metadata": {},
   "source": [
    "3.) Find 5 values for $\\sqrt{a^2+b^2}$ for random $a \\in [1,5]$ and random $b \\in [1,5]$:"
   ]
  },
  {
   "cell_type": "code",
   "execution_count": null,
   "id": "304a8451",
   "metadata": {},
   "outputs": [],
   "source": []
  },
  {
   "cell_type": "markdown",
   "id": "3f1e270d",
   "metadata": {},
   "source": [
    "4.) Find the values for $Y= \\frac{1}{X+1}$ where X is an identity matrix of size 3:"
   ]
  },
  {
   "cell_type": "code",
   "execution_count": null,
   "id": "fae9fb07",
   "metadata": {},
   "outputs": [],
   "source": []
  },
  {
   "cell_type": "markdown",
   "id": "19de81e7",
   "metadata": {},
   "source": [
    "5.) Use broadcasting to create a 5 x 5 array where each entry is a unique multiple of $\\pi$."
   ]
  },
  {
   "cell_type": "code",
   "execution_count": null,
   "id": "c59299fd",
   "metadata": {},
   "outputs": [],
   "source": []
  },
  {
   "cell_type": "markdown",
   "id": "104fc711",
   "metadata": {},
   "source": [
    "**Comparison functions**"
   ]
  },
  {
   "cell_type": "markdown",
   "id": "9ee58004",
   "metadata": {},
   "source": [
    "Logical operators can also be used to make elementwise comparisons and will return an array of booleans."
   ]
  },
  {
   "cell_type": "code",
   "execution_count": 115,
   "id": "52b96f35",
   "metadata": {},
   "outputs": [
    {
     "data": {
      "text/plain": [
       "array([ True, False, False])"
      ]
     },
     "execution_count": 115,
     "metadata": {},
     "output_type": "execute_result"
    }
   ],
   "source": [
    "np.array([1,5,8]) < np.array([4,5,6])"
   ]
  },
  {
   "cell_type": "code",
   "execution_count": 116,
   "id": "00ec248e",
   "metadata": {},
   "outputs": [
    {
     "data": {
      "text/plain": [
       "array([False, False,  True])"
      ]
     },
     "execution_count": 116,
     "metadata": {},
     "output_type": "execute_result"
    }
   ],
   "source": [
    "np.array([1,5,8]) > np.array([4,5,6])"
   ]
  },
  {
   "cell_type": "code",
   "execution_count": 117,
   "id": "85677e56",
   "metadata": {},
   "outputs": [
    {
     "data": {
      "text/plain": [
       "array([False,  True,  True])"
      ]
     },
     "execution_count": 117,
     "metadata": {},
     "output_type": "execute_result"
    }
   ],
   "source": [
    "np.array([1,5,8]) >= np.array([4,5,6])"
   ]
  },
  {
   "cell_type": "code",
   "execution_count": 118,
   "id": "ad9ded76",
   "metadata": {},
   "outputs": [
    {
     "data": {
      "text/plain": [
       "array([ True,  True, False])"
      ]
     },
     "execution_count": 118,
     "metadata": {},
     "output_type": "execute_result"
    }
   ],
   "source": [
    "np.array([1,5,8]) <= np.array([4,5,6])"
   ]
  },
  {
   "cell_type": "code",
   "execution_count": 122,
   "id": "f0e8cc69",
   "metadata": {},
   "outputs": [
    {
     "data": {
      "text/plain": [
       "array([False,  True, False])"
      ]
     },
     "execution_count": 122,
     "metadata": {},
     "output_type": "execute_result"
    }
   ],
   "source": [
    "np.array([1,5,8]) == np.array([4,5,6])"
   ]
  },
  {
   "cell_type": "code",
   "execution_count": 123,
   "id": "52c61dfc",
   "metadata": {
    "scrolled": true
   },
   "outputs": [
    {
     "data": {
      "text/plain": [
       "array([ True, False,  True])"
      ]
     },
     "execution_count": 123,
     "metadata": {},
     "output_type": "execute_result"
    }
   ],
   "source": [
    "np.array([1,5,8]) != np.array([4,5,6])"
   ]
  },
  {
   "cell_type": "markdown",
   "id": "25740f1a",
   "metadata": {
    "scrolled": true
   },
   "source": [
    "**Exercises: Part A**"
   ]
  },
  {
   "cell_type": "code",
   "execution_count": 50,
   "id": "54147956",
   "metadata": {
    "scrolled": true
   },
   "outputs": [
    {
     "name": "stdout",
     "output_type": "stream",
     "text": [
      "[[0.47327942 0.10765035 0.56705496]]\n"
     ]
    }
   ],
   "source": [
    "x = np.random.rand(1,3)\n",
    "print(x)"
   ]
  },
  {
   "cell_type": "code",
   "execution_count": 51,
   "id": "3912fd7b",
   "metadata": {},
   "outputs": [
    {
     "name": "stdout",
     "output_type": "stream",
     "text": [
      "[[0.48044045 0.64496143 0.40924484]]\n"
     ]
    }
   ],
   "source": [
    "y = np.random.rand(1,3)\n",
    "print(y)"
   ]
  },
  {
   "cell_type": "markdown",
   "id": "a806cd3b",
   "metadata": {},
   "source": [
    "1.) Using the two arrays defined above, predict the result of `x > y`."
   ]
  },
  {
   "cell_type": "code",
   "execution_count": null,
   "id": "35c2b663",
   "metadata": {},
   "outputs": [],
   "source": []
  },
  {
   "cell_type": "markdown",
   "id": "d6bb416d",
   "metadata": {},
   "source": [
    "2.) Using the two arrays defined above, predict the result of `x < y`."
   ]
  },
  {
   "cell_type": "code",
   "execution_count": null,
   "id": "263c8614",
   "metadata": {},
   "outputs": [],
   "source": []
  },
  {
   "cell_type": "markdown",
   "id": "a91b549a",
   "metadata": {},
   "source": [
    "3.) Using the two arrays defined above, predict the result of `y >= x`."
   ]
  },
  {
   "cell_type": "code",
   "execution_count": null,
   "id": "ca7cb604",
   "metadata": {},
   "outputs": [],
   "source": []
  },
  {
   "cell_type": "markdown",
   "id": "ed5ddea7",
   "metadata": {},
   "source": [
    "4.) Using the two arrays defined above, predict the result of `y <= x`."
   ]
  },
  {
   "cell_type": "code",
   "execution_count": null,
   "id": "c5f97b4d",
   "metadata": {},
   "outputs": [],
   "source": []
  },
  {
   "cell_type": "markdown",
   "id": "25aed9ae",
   "metadata": {},
   "source": [
    "5.) Using the two arrays defined above, predict the result of `x == y`."
   ]
  },
  {
   "cell_type": "code",
   "execution_count": null,
   "id": "8c12b3d0",
   "metadata": {},
   "outputs": [],
   "source": []
  },
  {
   "cell_type": "markdown",
   "id": "093dd3d3",
   "metadata": {},
   "source": [
    "6.) Using the two arrays defined above, predict the result of `y != x`."
   ]
  },
  {
   "cell_type": "code",
   "execution_count": null,
   "id": "26d2414c",
   "metadata": {},
   "outputs": [],
   "source": []
  },
  {
   "cell_type": "markdown",
   "id": "49c39fe2",
   "metadata": {},
   "source": [
    "**Exercises: Part B**"
   ]
  },
  {
   "cell_type": "code",
   "execution_count": 53,
   "id": "5c992a98",
   "metadata": {
    "scrolled": true
   },
   "outputs": [
    {
     "name": "stdout",
     "output_type": "stream",
     "text": [
      "[[0.05272934 0.7326787  0.7282759  0.83665729]\n",
      " [0.48771293 0.50587749 0.65491797 0.01833402]\n",
      " [0.12429713 0.50409584 0.92524429 0.96234531]]\n"
     ]
    }
   ],
   "source": [
    "G = np.random.rand(3,4)\n",
    "print(G)"
   ]
  },
  {
   "cell_type": "code",
   "execution_count": 54,
   "id": "1b23f0a4",
   "metadata": {},
   "outputs": [
    {
     "name": "stdout",
     "output_type": "stream",
     "text": [
      "[[0.56541616 0.57341828 0.23415372 0.61233071]\n",
      " [0.57186286 0.45910713 0.72668356 0.43366566]\n",
      " [0.91081768 0.72861893 0.98927998 0.98651503]]\n"
     ]
    }
   ],
   "source": [
    "H = np.random.rand(3,4)\n",
    "print(H)"
   ]
  },
  {
   "cell_type": "markdown",
   "id": "137e9d67",
   "metadata": {},
   "source": [
    "1.) Using the two arrays defined above, predict the result of `H > G`."
   ]
  },
  {
   "cell_type": "code",
   "execution_count": null,
   "id": "72e24fa7",
   "metadata": {},
   "outputs": [],
   "source": []
  },
  {
   "cell_type": "markdown",
   "id": "7065a6ea",
   "metadata": {},
   "source": [
    "2.) Using the two arrays defined above, predict the result of `G < H`."
   ]
  },
  {
   "cell_type": "code",
   "execution_count": null,
   "id": "8dbb0acc",
   "metadata": {},
   "outputs": [],
   "source": []
  },
  {
   "cell_type": "markdown",
   "id": "27d43fb7",
   "metadata": {},
   "source": [
    "3.) Using the two arrays defined above, predict the result of `G >= H`."
   ]
  },
  {
   "cell_type": "code",
   "execution_count": null,
   "id": "2dc9c636",
   "metadata": {},
   "outputs": [],
   "source": []
  },
  {
   "cell_type": "markdown",
   "id": "edcc9a6a",
   "metadata": {},
   "source": [
    "4.) Using the two arrays defined above, predict the result of `H <= G`."
   ]
  },
  {
   "cell_type": "code",
   "execution_count": null,
   "id": "2643de06",
   "metadata": {},
   "outputs": [],
   "source": []
  },
  {
   "cell_type": "markdown",
   "id": "e8a4dc01",
   "metadata": {},
   "source": [
    "5.) Using the two arrays defined above, predict the result of `G == H`."
   ]
  },
  {
   "cell_type": "code",
   "execution_count": null,
   "id": "e5770902",
   "metadata": {},
   "outputs": [],
   "source": []
  },
  {
   "cell_type": "markdown",
   "id": "90b446ef",
   "metadata": {},
   "source": [
    "6.) Using the two arrays defined above, predict the result of `H != G`."
   ]
  },
  {
   "cell_type": "code",
   "execution_count": null,
   "id": "70eafade",
   "metadata": {},
   "outputs": [],
   "source": []
  },
  {
   "cell_type": "markdown",
   "id": "86ea4796",
   "metadata": {},
   "source": [
    "### Universal Functions  "
   ]
  },
  {
   "cell_type": "markdown",
   "id": "6169cc4b",
   "metadata": {},
   "source": [
    "NumPy provides many built-in mathematical operations called universal functions or \"ufunc\".\n",
    "\n",
    "These functions are accessed using dot notation and include the following categories:\n",
    "* Math Operations\n",
    "* Trigonometic Functions\n",
    "* Comparison Functions\n",
    "\n"
   ]
  },
  {
   "cell_type": "markdown",
   "id": "f211edae",
   "metadata": {},
   "source": [
    "**Math Operations**"
   ]
  },
  {
   "cell_type": "markdown",
   "id": "eb66308a",
   "metadata": {},
   "source": [
    "There are universal functions defined for simple arithmetic operations we have covered previously."
   ]
  },
  {
   "cell_type": "code",
   "execution_count": 65,
   "id": "d90b47d1",
   "metadata": {},
   "outputs": [
    {
     "name": "stdout",
     "output_type": "stream",
     "text": [
      "5\n",
      "-1\n",
      "6\n",
      "0.6666666666666666\n",
      "8\n",
      "2\n",
      "2\n"
     ]
    }
   ],
   "source": [
    "print(np.add(2,3))\n",
    "print(np.subtract(2,3))\n",
    "print(np.multiply(2,3))\n",
    "print(np.divide(2,3))\n",
    "print(np.power(2,3))\n",
    "print(np.mod(2,3))"
   ]
  },
  {
   "cell_type": "markdown",
   "id": "5329643d",
   "metadata": {},
   "source": [
    "`np.abs()` calculates the absolute value of each element:"
   ]
  },
  {
   "cell_type": "code",
   "execution_count": 103,
   "id": "f35e54c1",
   "metadata": {},
   "outputs": [
    {
     "data": {
      "text/plain": [
       "array([ 1,  2, 59])"
      ]
     },
     "execution_count": 103,
     "metadata": {},
     "output_type": "execute_result"
    }
   ],
   "source": [
    "np.abs(np.array([1,2,-59]))"
   ]
  },
  {
   "cell_type": "markdown",
   "id": "eb6b6860",
   "metadata": {},
   "source": [
    "`np.negative()` produces the numerical negative of each element:"
   ]
  },
  {
   "cell_type": "code",
   "execution_count": 73,
   "id": "8dc9cb6c",
   "metadata": {
    "scrolled": true
   },
   "outputs": [
    {
     "data": {
      "text/plain": [
       "array([-1, -2, 59])"
      ]
     },
     "execution_count": 73,
     "metadata": {},
     "output_type": "execute_result"
    }
   ],
   "source": [
    "np.negative(np.array([1,2,-59]))"
   ]
  },
  {
   "cell_type": "markdown",
   "id": "8ec10ce9",
   "metadata": {},
   "source": [
    "`np.positive()` produces the numerical positive of each element:"
   ]
  },
  {
   "cell_type": "code",
   "execution_count": 74,
   "id": "54827f0a",
   "metadata": {},
   "outputs": [
    {
     "data": {
      "text/plain": [
       "array([  1,   2, -59])"
      ]
     },
     "execution_count": 74,
     "metadata": {},
     "output_type": "execute_result"
    }
   ],
   "source": [
    "np.positive(np.array([1,2,-59]))"
   ]
  },
  {
   "cell_type": "markdown",
   "id": "aebd4bac",
   "metadata": {},
   "source": [
    "`np.sign()` returns `1` if a number is positive and `-1` if a number is element:"
   ]
  },
  {
   "cell_type": "code",
   "execution_count": 76,
   "id": "97755612",
   "metadata": {},
   "outputs": [
    {
     "data": {
      "text/plain": [
       "array([ 1,  1, -1])"
      ]
     },
     "execution_count": 76,
     "metadata": {},
     "output_type": "execute_result"
    }
   ],
   "source": [
    "np.sign(np.array([1,2,-59]))"
   ]
  },
  {
   "cell_type": "markdown",
   "id": "e9b35613",
   "metadata": {},
   "source": [
    "`np.log()` produces the natural logarithm of each element:"
   ]
  },
  {
   "cell_type": "code",
   "execution_count": 79,
   "id": "397e79fc",
   "metadata": {},
   "outputs": [
    {
     "data": {
      "text/plain": [
       "array([0.        , 0.69314718, 1.09861229])"
      ]
     },
     "execution_count": 79,
     "metadata": {},
     "output_type": "execute_result"
    }
   ],
   "source": [
    "np.log(np.array([1,2,3]))"
   ]
  },
  {
   "cell_type": "markdown",
   "id": "d3a1dc35",
   "metadata": {},
   "source": [
    "`np.log10()` produces the base 10 logarithm of each element:"
   ]
  },
  {
   "cell_type": "code",
   "execution_count": 80,
   "id": "82946280",
   "metadata": {},
   "outputs": [
    {
     "data": {
      "text/plain": [
       "array([0.        , 0.30103   , 0.47712125])"
      ]
     },
     "execution_count": 80,
     "metadata": {},
     "output_type": "execute_result"
    }
   ],
   "source": [
    "np.log10(np.array([1,2,3]))"
   ]
  },
  {
   "cell_type": "markdown",
   "id": "588aae64",
   "metadata": {},
   "source": [
    "`np.square()` produces the square of each element:\n"
   ]
  },
  {
   "cell_type": "code",
   "execution_count": 81,
   "id": "1204f1f4",
   "metadata": {},
   "outputs": [
    {
     "data": {
      "text/plain": [
       "array([1, 4, 9])"
      ]
     },
     "execution_count": 81,
     "metadata": {},
     "output_type": "execute_result"
    }
   ],
   "source": [
    "np.square(np.array([1,2,3]))"
   ]
  },
  {
   "cell_type": "markdown",
   "id": "578276b1",
   "metadata": {},
   "source": [
    "`np.sqrt()` produces the square-root of each element:\n"
   ]
  },
  {
   "cell_type": "code",
   "execution_count": 82,
   "id": "66794e03",
   "metadata": {},
   "outputs": [
    {
     "data": {
      "text/plain": [
       "array([1.        , 1.41421356, 1.73205081])"
      ]
     },
     "execution_count": 82,
     "metadata": {},
     "output_type": "execute_result"
    }
   ],
   "source": [
    "np.sqrt(np.array([1,2,3]))"
   ]
  },
  {
   "cell_type": "markdown",
   "id": "96a80c04",
   "metadata": {},
   "source": [
    "`np.gcd()` produces the greatest common denominator of two numbers:"
   ]
  },
  {
   "cell_type": "code",
   "execution_count": 86,
   "id": "de46060b",
   "metadata": {},
   "outputs": [
    {
     "data": {
      "text/plain": [
       "3"
      ]
     },
     "execution_count": 86,
     "metadata": {},
     "output_type": "execute_result"
    }
   ],
   "source": [
    "np.gcd(42,27)"
   ]
  },
  {
   "cell_type": "markdown",
   "id": "a0a558cb",
   "metadata": {},
   "source": [
    "`np.lcm()` produces the lowest common multiple of two numbers:"
   ]
  },
  {
   "cell_type": "code",
   "execution_count": 88,
   "id": "c7317715",
   "metadata": {},
   "outputs": [
    {
     "data": {
      "text/plain": [
       "123"
      ]
     },
     "execution_count": 88,
     "metadata": {},
     "output_type": "execute_result"
    }
   ],
   "source": [
    "np.lcm(3,41)"
   ]
  },
  {
   "cell_type": "markdown",
   "id": "eae35ef9",
   "metadata": {},
   "source": [
    "`np.sort()` returns a sorted copy an array:"
   ]
  },
  {
   "cell_type": "code",
   "execution_count": 4,
   "id": "a27107df",
   "metadata": {},
   "outputs": [
    {
     "data": {
      "text/plain": [
       "array([ 1,  2,  2,  4,  5,  5,  5,  7, 56])"
      ]
     },
     "execution_count": 4,
     "metadata": {},
     "output_type": "execute_result"
    }
   ],
   "source": [
    "np.sort(np.array([5,7,2,56,1,5,2,4,5]))"
   ]
  },
  {
   "cell_type": "code",
   "execution_count": 5,
   "id": "a1b70691",
   "metadata": {
    "scrolled": false
   },
   "outputs": [
    {
     "data": {
      "text/plain": [
       "array([[3. , 4.5, 5.2],\n",
       "       [0.1, 0.3, 9.1]])"
      ]
     },
     "execution_count": 5,
     "metadata": {},
     "output_type": "execute_result"
    }
   ],
   "source": [
    "np.sort(np.array([[5.2, 3.0, 4.5], [9.1, 0.1, 0.3]]))"
   ]
  },
  {
   "cell_type": "code",
   "execution_count": 6,
   "id": "f536288b",
   "metadata": {
    "scrolled": true
   },
   "outputs": [
    {
     "name": "stdout",
     "output_type": "stream",
     "text": [
      "[[[1 2 3]\n",
      "  [4 5 6]\n",
      "  [7 8 9]]]\n"
     ]
    }
   ],
   "source": [
    "v = np.array([[[1,2,3], [4,5,6], [7,8,9]]])\n",
    "print(v)"
   ]
  },
  {
   "cell_type": "markdown",
   "id": "e9150174",
   "metadata": {},
   "source": [
    "`np.sum()` returns the sum of array elements over a given axis:"
   ]
  },
  {
   "cell_type": "code",
   "execution_count": 9,
   "id": "3c9fdbbc",
   "metadata": {
    "scrolled": true
   },
   "outputs": [
    {
     "data": {
      "text/plain": [
       "45"
      ]
     },
     "execution_count": 9,
     "metadata": {},
     "output_type": "execute_result"
    }
   ],
   "source": [
    "np.sum(v,axis=None) # computes the sum of all elements"
   ]
  },
  {
   "cell_type": "markdown",
   "id": "a8ab5465",
   "metadata": {},
   "source": [
    "Note that the `axis` parameter is set to `None` by default as this means it will perform the operation over the entire array:"
   ]
  },
  {
   "cell_type": "code",
   "execution_count": 29,
   "id": "7a347e5f",
   "metadata": {},
   "outputs": [
    {
     "data": {
      "text/plain": [
       "45"
      ]
     },
     "execution_count": 29,
     "metadata": {},
     "output_type": "execute_result"
    }
   ],
   "source": [
    "np.sum(v) # computes the sum of all elements"
   ]
  },
  {
   "cell_type": "markdown",
   "id": "2005a0cb",
   "metadata": {},
   "source": [
    "`np.prod()` returs the product of array elements over a given axis:"
   ]
  },
  {
   "cell_type": "code",
   "execution_count": 33,
   "id": "096b469d",
   "metadata": {},
   "outputs": [
    {
     "data": {
      "text/plain": [
       "array([[ 28,  80, 162]])"
      ]
     },
     "execution_count": 33,
     "metadata": {},
     "output_type": "execute_result"
    }
   ],
   "source": [
    "np.prod(v,axis=1) # computes the product in each column"
   ]
  },
  {
   "cell_type": "markdown",
   "id": "2149e588",
   "metadata": {},
   "source": [
    "`np.mean()` computes the arithmetic mean along the specified axis:"
   ]
  },
  {
   "cell_type": "code",
   "execution_count": 20,
   "id": "af549e35",
   "metadata": {},
   "outputs": [
    {
     "data": {
      "text/plain": [
       "array([[2., 5., 8.]])"
      ]
     },
     "execution_count": 20,
     "metadata": {},
     "output_type": "execute_result"
    }
   ],
   "source": [
    "np.mean(v,axis=2) # computes the mean in each row"
   ]
  },
  {
   "cell_type": "markdown",
   "id": "f15a3585",
   "metadata": {},
   "source": [
    "`np.median()` computes the median along the specified axis:"
   ]
  },
  {
   "cell_type": "code",
   "execution_count": 21,
   "id": "5853ee3f",
   "metadata": {},
   "outputs": [
    {
     "data": {
      "text/plain": [
       "5.0"
      ]
     },
     "execution_count": 21,
     "metadata": {},
     "output_type": "execute_result"
    }
   ],
   "source": [
    "np.median(v) # computes the median of all elements"
   ]
  },
  {
   "cell_type": "markdown",
   "id": "c7eb2356",
   "metadata": {},
   "source": [
    "`np.max()` computes the element-wise maximum of array elements:"
   ]
  },
  {
   "cell_type": "code",
   "execution_count": 22,
   "id": "870392dc",
   "metadata": {},
   "outputs": [
    {
     "data": {
      "text/plain": [
       "array([[7, 8, 9]])"
      ]
     },
     "execution_count": 22,
     "metadata": {},
     "output_type": "execute_result"
    }
   ],
   "source": [
    "np.max(v,axis=1) # computes the maximum in each column"
   ]
  },
  {
   "cell_type": "markdown",
   "id": "9959dd52",
   "metadata": {},
   "source": [
    "`np.min()` computes the element-wise minimum of array elements:"
   ]
  },
  {
   "cell_type": "code",
   "execution_count": 23,
   "id": "21931250",
   "metadata": {},
   "outputs": [
    {
     "data": {
      "text/plain": [
       "array([[1, 2, 3]])"
      ]
     },
     "execution_count": 23,
     "metadata": {},
     "output_type": "execute_result"
    }
   ],
   "source": [
    "np.min(v,axis=1) # computes the minimum in each column"
   ]
  },
  {
   "cell_type": "markdown",
   "id": "adb9ede9",
   "metadata": {},
   "source": [
    "`np.std()` computes the standard deviation along the specified axis:"
   ]
  },
  {
   "cell_type": "code",
   "execution_count": 24,
   "id": "55496cee",
   "metadata": {},
   "outputs": [
    {
     "data": {
      "text/plain": [
       "2.581988897471611"
      ]
     },
     "execution_count": 24,
     "metadata": {},
     "output_type": "execute_result"
    }
   ],
   "source": [
    "np.std(v) # computes the standard deviation of all elements"
   ]
  },
  {
   "cell_type": "markdown",
   "id": "c81cf542",
   "metadata": {},
   "source": [
    "`np.var()` computes the variance along the specified axis:"
   ]
  },
  {
   "cell_type": "code",
   "execution_count": 26,
   "id": "cf59d93e",
   "metadata": {},
   "outputs": [
    {
     "data": {
      "text/plain": [
       "6.666666666666667"
      ]
     },
     "execution_count": 26,
     "metadata": {},
     "output_type": "execute_result"
    }
   ],
   "source": [
    "np.var(v) # computes the variance of all elements"
   ]
  },
  {
   "cell_type": "markdown",
   "id": "a9de27ef",
   "metadata": {},
   "source": [
    "`np.argmax()` returns the indices of the maximum values along an axis:"
   ]
  },
  {
   "cell_type": "code",
   "execution_count": 27,
   "id": "bf17a7f2",
   "metadata": {},
   "outputs": [
    {
     "data": {
      "text/plain": [
       "8"
      ]
     },
     "execution_count": 27,
     "metadata": {},
     "output_type": "execute_result"
    }
   ],
   "source": [
    "np.argmax(v) # returns the index of the largest element"
   ]
  },
  {
   "cell_type": "markdown",
   "id": "a87b161d",
   "metadata": {},
   "source": [
    "`np.argmin()` returns the indices of the minimum values along an axis:"
   ]
  },
  {
   "cell_type": "code",
   "execution_count": 28,
   "id": "816f964d",
   "metadata": {},
   "outputs": [
    {
     "data": {
      "text/plain": [
       "0"
      ]
     },
     "execution_count": 28,
     "metadata": {},
     "output_type": "execute_result"
    }
   ],
   "source": [
    "np.argmin(v) # returns the index of the smallest element"
   ]
  },
  {
   "cell_type": "markdown",
   "id": "b934f5ea",
   "metadata": {},
   "source": [
    "`np.round()` rounds the array to the specified decimals:"
   ]
  },
  {
   "cell_type": "code",
   "execution_count": 40,
   "id": "1b664dfe",
   "metadata": {},
   "outputs": [
    {
     "data": {
      "text/plain": [
       "array([12.05,  5.46,  3.58])"
      ]
     },
     "execution_count": 40,
     "metadata": {},
     "output_type": "execute_result"
    }
   ],
   "source": [
    "np.round(np.array([12.049502,5.45925,3.58355885]),2)"
   ]
  },
  {
   "cell_type": "markdown",
   "id": "4fba12fa",
   "metadata": {},
   "source": [
    "**Exercises**"
   ]
  },
  {
   "cell_type": "markdown",
   "id": "9e1d7f64",
   "metadata": {},
   "source": [
    "1.) Create a function which takes in a 1D NumPy array and squares each value n only if it results in a number that is less than $n/2$ times the original number."
   ]
  },
  {
   "cell_type": "code",
   "execution_count": null,
   "id": "32eb8f68",
   "metadata": {},
   "outputs": [],
   "source": []
  },
  {
   "cell_type": "markdown",
   "id": "f2a34023",
   "metadata": {},
   "source": [
    "2.) Create a function which takes in a 1D NumPy array and square roots each value only if it results in an integer"
   ]
  },
  {
   "cell_type": "code",
   "execution_count": null,
   "id": "ac0b4b61",
   "metadata": {},
   "outputs": [],
   "source": []
  },
  {
   "cell_type": "markdown",
   "id": "ac93181e",
   "metadata": {},
   "source": [
    "3.) Create a function which takes in a 1D NumPy array and produces the maximum/minimum value along with its index."
   ]
  },
  {
   "cell_type": "code",
   "execution_count": null,
   "id": "d949de2f",
   "metadata": {},
   "outputs": [],
   "source": []
  },
  {
   "cell_type": "markdown",
   "id": "4b09d4cf",
   "metadata": {},
   "source": [
    "4.) Create a function which takes in a numerator and a denominator and prints the fraction in  its most simplified form."
   ]
  },
  {
   "cell_type": "code",
   "execution_count": null,
   "id": "910308f1",
   "metadata": {},
   "outputs": [],
   "source": []
  },
  {
   "cell_type": "markdown",
   "id": "8a276a2f",
   "metadata": {},
   "source": [
    "5.) Create a function which takes in a 1D array of numbers and produces the LCD of those numbers:"
   ]
  },
  {
   "cell_type": "code",
   "execution_count": null,
   "id": "0abdac71",
   "metadata": {},
   "outputs": [],
   "source": []
  },
  {
   "cell_type": "markdown",
   "id": "75dc9f46",
   "metadata": {},
   "source": [
    "6.) Create a function which takes in a 1D array of numbers and produces the GCM of those numbers:"
   ]
  },
  {
   "cell_type": "code",
   "execution_count": null,
   "id": "1d99141e",
   "metadata": {},
   "outputs": [],
   "source": []
  },
  {
   "cell_type": "markdown",
   "id": "02799748",
   "metadata": {},
   "source": [
    "7.) Create a function which takes in a NumPy array and produces two lists of the maximum/minimum value in each row:"
   ]
  },
  {
   "cell_type": "code",
   "execution_count": null,
   "id": "3796d5fb",
   "metadata": {},
   "outputs": [],
   "source": []
  },
  {
   "cell_type": "markdown",
   "id": "c2aeb398",
   "metadata": {},
   "source": [
    "8.) Create a function which takes in a NumPy array and produces two lists of the maximum/minimum value in each row:"
   ]
  },
  {
   "cell_type": "code",
   "execution_count": null,
   "id": "857ca173",
   "metadata": {},
   "outputs": [],
   "source": []
  },
  {
   "cell_type": "markdown",
   "id": "459e4675",
   "metadata": {},
   "source": [
    "9.) Create a function which takes in a NumPy array and produces which column has the largest/smallest mean along with its mean value:"
   ]
  },
  {
   "cell_type": "code",
   "execution_count": null,
   "id": "db4cfbfa",
   "metadata": {},
   "outputs": [],
   "source": []
  },
  {
   "cell_type": "markdown",
   "id": "0dd2aa4f",
   "metadata": {},
   "source": [
    "10.) Create a function which takes in a NumPy array and produces which row has the largest/smallest mean along with its mean value:"
   ]
  },
  {
   "cell_type": "code",
   "execution_count": null,
   "id": "384ae750",
   "metadata": {},
   "outputs": [],
   "source": []
  },
  {
   "cell_type": "markdown",
   "id": "865f84fc",
   "metadata": {},
   "source": [
    "11.) Create a function which takes in a NumPy array and produces which column has the largest/smallest median along with its mean value:"
   ]
  },
  {
   "cell_type": "code",
   "execution_count": null,
   "id": "6ac79c3d",
   "metadata": {},
   "outputs": [],
   "source": []
  },
  {
   "cell_type": "markdown",
   "id": "78e5c1c8",
   "metadata": {},
   "source": [
    "12.) Create a function which takes in a NumPy array and produces which row has the largest/smallest median along with its mean value:"
   ]
  },
  {
   "cell_type": "code",
   "execution_count": null,
   "id": "929f8829",
   "metadata": {},
   "outputs": [],
   "source": []
  },
  {
   "cell_type": "markdown",
   "id": "b005ef0a",
   "metadata": {},
   "source": [
    "13.) Create a function which takes in a NumPy array and produces the standard deviation & variance of each column:"
   ]
  },
  {
   "cell_type": "code",
   "execution_count": null,
   "id": "496a74fa",
   "metadata": {},
   "outputs": [],
   "source": []
  },
  {
   "cell_type": "markdown",
   "id": "8ffcff7a",
   "metadata": {},
   "source": [
    "14.) Create a function which takes in a NumPy array and produces the standard deviation & variance of each row:"
   ]
  },
  {
   "cell_type": "code",
   "execution_count": null,
   "id": "5592ae40",
   "metadata": {},
   "outputs": [],
   "source": []
  },
  {
   "cell_type": "markdown",
   "id": "709e8cc4",
   "metadata": {},
   "source": [
    "15.) Create a function which takes in a NumPy array and produces which column has the largest/smallest sum along with its sum value:"
   ]
  },
  {
   "cell_type": "code",
   "execution_count": null,
   "id": "29bb6d02",
   "metadata": {},
   "outputs": [],
   "source": []
  },
  {
   "cell_type": "markdown",
   "id": "843ca987",
   "metadata": {},
   "source": [
    "16.) Create a function which takes in a NumPy array and produces which row has the largest/smallest sum along with its sum value:"
   ]
  },
  {
   "cell_type": "code",
   "execution_count": null,
   "id": "94b0f6a3",
   "metadata": {},
   "outputs": [],
   "source": []
  },
  {
   "cell_type": "markdown",
   "id": "e9563eb6",
   "metadata": {},
   "source": [
    "17.) Create a function which takes in a NumPy array and produces which column has the largest/smallest product along with its product value:"
   ]
  },
  {
   "cell_type": "code",
   "execution_count": null,
   "id": "0f79a74e",
   "metadata": {},
   "outputs": [],
   "source": []
  },
  {
   "cell_type": "markdown",
   "id": "f1d4105a",
   "metadata": {},
   "source": [
    "18.) Create a function which takes in a NumPy array and produces which row has the largest/smallest product along with its mean value:"
   ]
  },
  {
   "cell_type": "code",
   "execution_count": null,
   "id": "5db37c73",
   "metadata": {},
   "outputs": [],
   "source": []
  },
  {
   "cell_type": "markdown",
   "id": "b8978eed",
   "metadata": {},
   "source": [
    "**Trigonometric Functions**"
   ]
  },
  {
   "cell_type": "markdown",
   "id": "e41beec9",
   "metadata": {},
   "source": [
    "NumPy has built-in functions for each trigonometric function and its inverse:\n",
    "* `np.sin()`\n",
    "* `np.cos()`\n",
    "* `np.tan()`\n",
    "* `np.arcsin()`\n",
    "* `np.arccos()`\n",
    "* `np.arctan()`\n",
    "\n",
    "Note that all trigonometric functions use radians when an angle is called for."
   ]
  },
  {
   "cell_type": "code",
   "execution_count": 99,
   "id": "38748802",
   "metadata": {},
   "outputs": [
    {
     "name": "stdout",
     "output_type": "stream",
     "text": [
      "0.0\n",
      "1.0\n",
      "0.0\n",
      "0.0\n",
      "1.5707963267948966\n",
      "0.0\n"
     ]
    }
   ],
   "source": [
    "print(np.sin(0))\n",
    "print(np.cos(0))\n",
    "print(np.tan(0))\n",
    "print(np.arcsin(0))\n",
    "print(np.arccos(0))\n",
    "print(np.arctan(0))"
   ]
  },
  {
   "cell_type": "markdown",
   "id": "1c4bc3fa",
   "metadata": {},
   "source": [
    "There are also helpful ufuncs for converting between radians and degrees.\n",
    "\n",
    "To convert from radians to degrees we use `np.rad2deg()`:"
   ]
  },
  {
   "cell_type": "code",
   "execution_count": 100,
   "id": "ecc770ec",
   "metadata": {},
   "outputs": [
    {
     "data": {
      "text/plain": [
       "180.0"
      ]
     },
     "execution_count": 100,
     "metadata": {},
     "output_type": "execute_result"
    }
   ],
   "source": [
    "np.rad2deg(np.pi)"
   ]
  },
  {
   "cell_type": "markdown",
   "id": "2c953335",
   "metadata": {},
   "source": [
    "And to convert from degrees to radians we use `np.deg2rad()`:"
   ]
  },
  {
   "cell_type": "code",
   "execution_count": 101,
   "id": "b8233f94",
   "metadata": {},
   "outputs": [
    {
     "data": {
      "text/plain": [
       "3.141592653589793"
      ]
     },
     "execution_count": 101,
     "metadata": {},
     "output_type": "execute_result"
    }
   ],
   "source": [
    "np.deg2rad(180)"
   ]
  },
  {
   "cell_type": "markdown",
   "id": "3ec93ef3",
   "metadata": {},
   "source": [
    "Note that all these trigonometric functions can also be called to operate elementwise on a NumPy array."
   ]
  },
  {
   "cell_type": "code",
   "execution_count": 102,
   "id": "1a11f0fd",
   "metadata": {
    "scrolled": true
   },
   "outputs": [
    {
     "data": {
      "text/plain": [
       "array([[0.00000000e+00, 1.22464680e-16],\n",
       "       [8.41470985e-01, 1.00000000e+00]])"
      ]
     },
     "execution_count": 102,
     "metadata": {},
     "output_type": "execute_result"
    }
   ],
   "source": [
    "np.sin(np.array([[0,np.pi],[1,np.pi/2]]))"
   ]
  },
  {
   "cell_type": "markdown",
   "id": "f9384227",
   "metadata": {},
   "source": [
    "**Exercises**"
   ]
  },
  {
   "cell_type": "markdown",
   "id": "07b42624",
   "metadata": {},
   "source": [
    "1.) Create a function which recieves a NumPy array and a string that tells whether to convert from radians to degrees or degrees to radians and does the appropriate conversion."
   ]
  },
  {
   "cell_type": "code",
   "execution_count": null,
   "id": "32a46a89",
   "metadata": {},
   "outputs": [],
   "source": []
  },
  {
   "cell_type": "markdown",
   "id": "1af6ddde",
   "metadata": {},
   "source": [
    "**Comparison Functions**"
   ]
  },
  {
   "cell_type": "markdown",
   "id": "9b63c435",
   "metadata": {},
   "source": [
    "There are universal functions defined for the logical operators we have covered previously:\n",
    "* `np.greater(x1,x2)`\n",
    "* `np.greater_equal(x1,x2)`\n",
    "* `np.less(x1,x2)`\n",
    "* `np.less_equal(x1,x2)`\n",
    "* `np.equal(x1,x2)`\n",
    "* `np.not_equal(x1,x2)`"
   ]
  },
  {
   "cell_type": "code",
   "execution_count": 136,
   "id": "1b293d4c",
   "metadata": {},
   "outputs": [
    {
     "name": "stdout",
     "output_type": "stream",
     "text": [
      "[False False False]\n"
     ]
    }
   ],
   "source": [
    "print(np.greater(np.array([1,3,3]), np.array([4,3,8])))"
   ]
  },
  {
   "cell_type": "code",
   "execution_count": 137,
   "id": "dc7000b3",
   "metadata": {},
   "outputs": [
    {
     "name": "stdout",
     "output_type": "stream",
     "text": [
      "[False  True False]\n"
     ]
    }
   ],
   "source": [
    "print(np.greater_equal(np.array([1,3,3]), np.array([4,3,8])))"
   ]
  },
  {
   "cell_type": "code",
   "execution_count": 138,
   "id": "eeec6afe",
   "metadata": {},
   "outputs": [
    {
     "name": "stdout",
     "output_type": "stream",
     "text": [
      "[ True False  True]\n"
     ]
    }
   ],
   "source": [
    "print(np.less(np.array([1,3,3]), np.array([4,3,8])))"
   ]
  },
  {
   "cell_type": "code",
   "execution_count": 139,
   "id": "8f629bcf",
   "metadata": {},
   "outputs": [
    {
     "name": "stdout",
     "output_type": "stream",
     "text": [
      "[ True  True  True]\n"
     ]
    }
   ],
   "source": [
    "print(np.less_equal(np.array([1,3,3]), np.array([4,3,8])))"
   ]
  },
  {
   "cell_type": "code",
   "execution_count": 140,
   "id": "1429b699",
   "metadata": {},
   "outputs": [
    {
     "name": "stdout",
     "output_type": "stream",
     "text": [
      "[False  True False]\n"
     ]
    }
   ],
   "source": [
    "print(np.equal(np.array([1,3,3]), np.array([4,3,8])))"
   ]
  },
  {
   "cell_type": "code",
   "execution_count": 141,
   "id": "7688667d",
   "metadata": {
    "scrolled": true
   },
   "outputs": [
    {
     "name": "stdout",
     "output_type": "stream",
     "text": [
      "[ True False  True]\n"
     ]
    }
   ],
   "source": [
    "print(np.not_equal(np.array([1,3,3]), np.array([4,3,8])))"
   ]
  },
  {
   "cell_type": "markdown",
   "id": "b2ebd1e7",
   "metadata": {},
   "source": [
    "**`np.all()` & `np.any()`**"
   ]
  },
  {
   "cell_type": "markdown",
   "id": "8ea26091",
   "metadata": {},
   "source": [
    "We can use `np.all()`  to test whether all array elements along a given axis evaluate to True:"
   ]
  },
  {
   "cell_type": "code",
   "execution_count": 64,
   "id": "da816dac",
   "metadata": {},
   "outputs": [
    {
     "data": {
      "text/plain": [
       "False"
      ]
     },
     "execution_count": 64,
     "metadata": {},
     "output_type": "execute_result"
    }
   ],
   "source": [
    "np.all(np.array([True, True, True, False, True]))"
   ]
  },
  {
   "cell_type": "markdown",
   "id": "18df8545",
   "metadata": {},
   "source": [
    "We can use `np.any()` to test whether any array element along a given axis evaluates to True:"
   ]
  },
  {
   "cell_type": "code",
   "execution_count": 66,
   "id": "fb64360a",
   "metadata": {},
   "outputs": [
    {
     "data": {
      "text/plain": [
       "True"
      ]
     },
     "execution_count": 66,
     "metadata": {},
     "output_type": "execute_result"
    }
   ],
   "source": [
    "np.any(np.array([False, False, False, True, False]))"
   ]
  },
  {
   "cell_type": "code",
   "execution_count": 67,
   "id": "0e860d45",
   "metadata": {
    "scrolled": true
   },
   "outputs": [
    {
     "data": {
      "text/plain": [
       "True"
      ]
     },
     "execution_count": 67,
     "metadata": {},
     "output_type": "execute_result"
    }
   ],
   "source": [
    "np.any(np.array([4 > 2, 5 < 3]))"
   ]
  },
  {
   "cell_type": "markdown",
   "id": "45c86cc6",
   "metadata": {},
   "source": [
    "**`np.logical_and()` & `np.logical_or()`**"
   ]
  },
  {
   "cell_type": "markdown",
   "id": "e9b52e2a",
   "metadata": {},
   "source": [
    "We can use `np.logical_and()` to compute the truth value of $x_1$ *AND* $x_2$ element-wise:\n",
    "\n"
   ]
  },
  {
   "cell_type": "code",
   "execution_count": 75,
   "id": "f029e7b5",
   "metadata": {
    "scrolled": true
   },
   "outputs": [
    {
     "name": "stdout",
     "output_type": "stream",
     "text": [
      "[[ True  True  True]\n",
      " [ True  True  True]\n",
      " [ True  True  True]]\n"
     ]
    }
   ],
   "source": [
    "x1 = np.full((3,3), True)\n",
    "print(x1)"
   ]
  },
  {
   "cell_type": "code",
   "execution_count": 73,
   "id": "13dc7403",
   "metadata": {},
   "outputs": [
    {
     "name": "stdout",
     "output_type": "stream",
     "text": [
      "[[False False False]\n",
      " [False False False]\n",
      " [False False False]]\n"
     ]
    }
   ],
   "source": [
    "x2 = np.full((3,3), False)\n",
    "print(x2)"
   ]
  },
  {
   "cell_type": "code",
   "execution_count": 70,
   "id": "5d1087fe",
   "metadata": {},
   "outputs": [
    {
     "data": {
      "text/plain": [
       "array([[False, False, False],\n",
       "       [False, False, False],\n",
       "       [False, False, False]])"
      ]
     },
     "execution_count": 70,
     "metadata": {},
     "output_type": "execute_result"
    }
   ],
   "source": [
    "np.logical_and(x1,x2)"
   ]
  },
  {
   "cell_type": "markdown",
   "id": "99a4d937",
   "metadata": {},
   "source": [
    "We can use `np.logical_or()` to compute the truth value of  $x_1$ *OR* $x_2$ element-wise:"
   ]
  },
  {
   "cell_type": "code",
   "execution_count": 76,
   "id": "7b6dfda6",
   "metadata": {
    "scrolled": false
   },
   "outputs": [
    {
     "data": {
      "text/plain": [
       "array([[ True,  True,  True],\n",
       "       [ True,  True,  True],\n",
       "       [ True,  True,  True]])"
      ]
     },
     "execution_count": 76,
     "metadata": {},
     "output_type": "execute_result"
    }
   ],
   "source": [
    "np.logical_or(x1,x2)"
   ]
  },
  {
   "cell_type": "markdown",
   "id": "31730ec5",
   "metadata": {},
   "source": [
    "**Exercises**"
   ]
  },
  {
   "cell_type": "markdown",
   "id": "e3790a61",
   "metadata": {},
   "source": [
    "1.) Create a function which takes in a NumPy array and a value and produces whether or not the given number is contained in the array along with its index if it is contained.\n"
   ]
  },
  {
   "cell_type": "code",
   "execution_count": null,
   "id": "5b425fba",
   "metadata": {},
   "outputs": [],
   "source": []
  },
  {
   "cell_type": "markdown",
   "id": "32c068c0",
   "metadata": {},
   "source": [
    "2.) Create a function which takes in a NumPy array and a value and produces an array of booleans for whether or not each element is larger than the given value:\n",
    "* `True` if the given value is larger than the element\n",
    "* `False` otherwise"
   ]
  },
  {
   "cell_type": "code",
   "execution_count": null,
   "id": "55af6662",
   "metadata": {},
   "outputs": [],
   "source": []
  },
  {
   "cell_type": "markdown",
   "id": "bb6cbcec",
   "metadata": {},
   "source": [
    "3.) Create a function that takes in a NumPy array and replaces each element which a string containing the number and whether it is positive/negative."
   ]
  },
  {
   "cell_type": "code",
   "execution_count": null,
   "id": "8087c4b1",
   "metadata": {},
   "outputs": [],
   "source": []
  },
  {
   "cell_type": "markdown",
   "id": "cb2f1744",
   "metadata": {},
   "source": [
    "4.) Create a function that takes in a NumPy array and replaces each element which a string containing the number and whether it is odd/even."
   ]
  },
  {
   "cell_type": "code",
   "execution_count": null,
   "id": "d3bbab07",
   "metadata": {},
   "outputs": [],
   "source": []
  },
  {
   "cell_type": "markdown",
   "id": "9e3865f5",
   "metadata": {},
   "source": [
    "5.) Create a function that takes in a NumPy array and a number and produces a 1D array of whether each column contains a multiple of that given number."
   ]
  },
  {
   "cell_type": "code",
   "execution_count": null,
   "id": "fd965c06",
   "metadata": {},
   "outputs": [],
   "source": []
  },
  {
   "cell_type": "markdown",
   "id": "bfa93e23",
   "metadata": {},
   "source": [
    "6.) Create a function that takes in a NumPy array and a number and produces a 1D array of whether each row contains a multiple of that given number."
   ]
  },
  {
   "cell_type": "code",
   "execution_count": null,
   "id": "3fb11db4",
   "metadata": {},
   "outputs": [],
   "source": []
  },
  {
   "cell_type": "markdown",
   "id": "3bc5189f",
   "metadata": {},
   "source": [
    "7.) Create a function that takes in a NumPy array and a number and produces a 1D array of whether each column contains a divisor of that given number."
   ]
  },
  {
   "cell_type": "code",
   "execution_count": null,
   "id": "17add195",
   "metadata": {},
   "outputs": [],
   "source": []
  },
  {
   "cell_type": "markdown",
   "id": "517ba426",
   "metadata": {},
   "source": [
    "8.) Create a function that takes in a NumPy array and a number and produces a 1D array of whether each row contains a divisor of that given number."
   ]
  },
  {
   "cell_type": "code",
   "execution_count": null,
   "id": "5a935ee4",
   "metadata": {},
   "outputs": [],
   "source": []
  },
  {
   "cell_type": "markdown",
   "id": "3f17c692",
   "metadata": {},
   "source": [
    "### Slicing and Indexing "
   ]
  },
  {
   "cell_type": "markdown",
   "id": "b2d8bc3a",
   "metadata": {},
   "source": [
    "We can access certain components of our NumPy arrays using *slicing* and *indexing*.\n",
    "\n",
    "Indexing involves accessing individual elements in our array, whereas slicing involves accessing a sequence of elements.\n",
    "\n"
   ]
  },
  {
   "cell_type": "markdown",
   "id": "75a8143a",
   "metadata": {},
   "source": [
    "Let's first create a 1D NumPy array:\n"
   ]
  },
  {
   "cell_type": "code",
   "execution_count": 27,
   "id": "3fdf92c8",
   "metadata": {},
   "outputs": [
    {
     "name": "stdout",
     "output_type": "stream",
     "text": [
      "[ 4  5  2 76  3 50]\n"
     ]
    }
   ],
   "source": [
    "v = np.array([4,5,2,76,3,50])\n",
    "print(v)"
   ]
  },
  {
   "cell_type": "markdown",
   "id": "18888502",
   "metadata": {},
   "source": [
    "NumPy follows the same zero-based indexing as Python, and so to access the first element in our array we would use the following:"
   ]
  },
  {
   "cell_type": "code",
   "execution_count": 28,
   "id": "10e75706",
   "metadata": {},
   "outputs": [
    {
     "data": {
      "text/plain": [
       "4"
      ]
     },
     "execution_count": 28,
     "metadata": {},
     "output_type": "execute_result"
    }
   ],
   "source": [
    "v[0]"
   ]
  },
  {
   "cell_type": "markdown",
   "id": "09102108",
   "metadata": {},
   "source": [
    "To get the last element of our array we would use:"
   ]
  },
  {
   "cell_type": "code",
   "execution_count": 30,
   "id": "ec06e26f",
   "metadata": {},
   "outputs": [
    {
     "data": {
      "text/plain": [
       "50"
      ]
     },
     "execution_count": 30,
     "metadata": {},
     "output_type": "execute_result"
    }
   ],
   "source": [
    "v[5]"
   ]
  },
  {
   "cell_type": "markdown",
   "id": "b6664601",
   "metadata": {},
   "source": [
    "We could get a slice of our array by using `v[start:end]`:"
   ]
  },
  {
   "cell_type": "code",
   "execution_count": 45,
   "id": "51bc0c45",
   "metadata": {
    "scrolled": true
   },
   "outputs": [
    {
     "data": {
      "text/plain": [
       "array([ 2, 76,  3])"
      ]
     },
     "execution_count": 45,
     "metadata": {},
     "output_type": "execute_result"
    }
   ],
   "source": [
    "v[2:5]"
   ]
  },
  {
   "cell_type": "markdown",
   "id": "986424d0",
   "metadata": {},
   "source": [
    "We can also provide a  step value to determine the step of the slicing.\n",
    "\n",
    "The syntax is `v[start:end:step]`.\n",
    "\n",
    "For instance if we wanted every second value from indices 2-5 we would use:"
   ]
  },
  {
   "cell_type": "code",
   "execution_count": 46,
   "id": "d3b8d263",
   "metadata": {},
   "outputs": [
    {
     "data": {
      "text/plain": [
       "array([2, 3])"
      ]
     },
     "execution_count": 46,
     "metadata": {},
     "output_type": "execute_result"
    }
   ],
   "source": [
    "v[2:5:2]"
   ]
  },
  {
   "cell_type": "markdown",
   "id": "1126d924",
   "metadata": {},
   "source": [
    "We can also use negative indices in our array by using the minus operator to refer to an index from the end."
   ]
  },
  {
   "cell_type": "code",
   "execution_count": 43,
   "id": "991b72f3",
   "metadata": {},
   "outputs": [
    {
     "data": {
      "text/plain": [
       "array([76,  3])"
      ]
     },
     "execution_count": 43,
     "metadata": {},
     "output_type": "execute_result"
    }
   ],
   "source": [
    "v[-3:-1]"
   ]
  },
  {
   "cell_type": "markdown",
   "id": "d061d2d1",
   "metadata": {},
   "source": [
    "The above syntax describes going from the third last element up to (but not including) first last element."
   ]
  },
  {
   "cell_type": "markdown",
   "id": "f6a7caf7",
   "metadata": {},
   "source": [
    "Let's now try indexing/slicing a multi-dimensional array:"
   ]
  },
  {
   "cell_type": "code",
   "execution_count": 39,
   "id": "84b7101e",
   "metadata": {
    "scrolled": true
   },
   "outputs": [
    {
     "name": "stdout",
     "output_type": "stream",
     "text": [
      "[[1 2 3]\n",
      " [4 5 6]\n",
      " [7 8 9]]\n"
     ]
    }
   ],
   "source": [
    "u = np.array([[1,2, 3], [4,5,6], [7,8,9]])\n",
    "print(u)"
   ]
  },
  {
   "cell_type": "markdown",
   "id": "59eef3c7",
   "metadata": {},
   "source": [
    "We can access rows and columns of arrays using `u[row, column]`.\n",
    "\n",
    "To access a single element, simply provide the row and column index into the square brackets.\n",
    "\n",
    "For example if we wanted the number 5 in the centre of our array, we would need to go to the row-1 index as well as the column 1 index:"
   ]
  },
  {
   "cell_type": "code",
   "execution_count": 42,
   "id": "739a77c9",
   "metadata": {},
   "outputs": [
    {
     "data": {
      "text/plain": [
       "5"
      ]
     },
     "execution_count": 42,
     "metadata": {},
     "output_type": "execute_result"
    }
   ],
   "source": [
    "u[1,1]"
   ]
  },
  {
   "cell_type": "markdown",
   "id": "9de3a0e5",
   "metadata": {},
   "source": [
    "We can access multiple elements by including a colon in one of our arguments.\n",
    "\n",
    "We can access the first row using `u[0,:]`:"
   ]
  },
  {
   "cell_type": "code",
   "execution_count": 13,
   "id": "a64f5909",
   "metadata": {},
   "outputs": [
    {
     "data": {
      "text/plain": [
       "array([1, 2, 3])"
      ]
     },
     "execution_count": 13,
     "metadata": {},
     "output_type": "execute_result"
    }
   ],
   "source": [
    "u[0,:]"
   ]
  },
  {
   "cell_type": "markdown",
   "id": "bfda2f97",
   "metadata": {},
   "source": [
    "And the second column using `u[:,1]`:"
   ]
  },
  {
   "cell_type": "code",
   "execution_count": 14,
   "id": "a059d845",
   "metadata": {},
   "outputs": [
    {
     "data": {
      "text/plain": [
       "array([2, 5, 8])"
      ]
     },
     "execution_count": 14,
     "metadata": {},
     "output_type": "execute_result"
    }
   ],
   "source": [
    "u[:,1]"
   ]
  },
  {
   "cell_type": "markdown",
   "id": "039b51dd",
   "metadata": {},
   "source": [
    "We use the colon `:` to indicate that we want all the row/column.\n",
    "\n",
    "So `u[0,:]` means all columns in first row  and `u[:,1]` means all rows in second column."
   ]
  },
  {
   "cell_type": "markdown",
   "id": "2b37b005",
   "metadata": {},
   "source": [
    "If we didn't want the entire row/column, we could use slicing syntax for indices `start_index:end_index`:"
   ]
  },
  {
   "cell_type": "markdown",
   "id": "5ca27d00",
   "metadata": {},
   "source": [
    "For example, if we wanted the bottom row but only the last two elements, we could use `u[2,1:3]`.\n",
    "\n",
    "This means go to the row at index 2 and grab the slice of columns from index 1-3:"
   ]
  },
  {
   "cell_type": "code",
   "execution_count": 41,
   "id": "12285585",
   "metadata": {},
   "outputs": [
    {
     "data": {
      "text/plain": [
       "array([8, 9])"
      ]
     },
     "execution_count": 41,
     "metadata": {},
     "output_type": "execute_result"
    }
   ],
   "source": [
    "u[2,1:3]"
   ]
  },
  {
   "cell_type": "markdown",
   "id": "f423f8bc",
   "metadata": {},
   "source": [
    "Finally, if we wanted our entire array as a slice we could use a colon in each index:"
   ]
  },
  {
   "cell_type": "code",
   "execution_count": 19,
   "id": "f213ac25",
   "metadata": {
    "scrolled": true
   },
   "outputs": [
    {
     "data": {
      "text/plain": [
       "array([[1, 2, 3],\n",
       "       [4, 5, 6],\n",
       "       [7, 8, 9]])"
      ]
     },
     "execution_count": 19,
     "metadata": {},
     "output_type": "execute_result"
    }
   ],
   "source": [
    "u[:,:]"
   ]
  },
  {
   "cell_type": "markdown",
   "id": "c125616a",
   "metadata": {},
   "source": [
    "**Exercises: Part A**"
   ]
  },
  {
   "cell_type": "markdown",
   "id": "13c20885",
   "metadata": {},
   "source": [
    "We first create an arrays which we will slice/index:"
   ]
  },
  {
   "cell_type": "code",
   "execution_count": 1,
   "id": "5fd4283a",
   "metadata": {},
   "outputs": [],
   "source": [
    "import numpy as np"
   ]
  },
  {
   "cell_type": "code",
   "execution_count": 5,
   "id": "f080fda9",
   "metadata": {},
   "outputs": [
    {
     "name": "stdout",
     "output_type": "stream",
     "text": [
      "[[ 12  65  73  16  31]\n",
      " [ 51  24  36  12  11]\n",
      " [256  51  42   8  93]\n",
      " [ 51  24  45   2   1]\n",
      " [  1   5   2   5   1]]\n"
     ]
    }
   ],
   "source": [
    "a = np.array([[12,65, 73,16,31], [51,24,36,12,11], [256,51,42,8,93], [51,24,45,2,1], [1,5,2,5,1]])\n",
    "print(a)"
   ]
  },
  {
   "cell_type": "markdown",
   "id": "02bc7e93",
   "metadata": {},
   "source": [
    "1.) Use slicing/indexing to obtain the third row from `a`."
   ]
  },
  {
   "cell_type": "code",
   "execution_count": null,
   "id": "0182395f",
   "metadata": {},
   "outputs": [],
   "source": []
  },
  {
   "cell_type": "markdown",
   "id": "65031d69",
   "metadata": {},
   "source": [
    "2.) Use slicing/indexing to obtain the last column from `a`."
   ]
  },
  {
   "cell_type": "code",
   "execution_count": null,
   "id": "ab2f7b76",
   "metadata": {},
   "outputs": [],
   "source": []
  },
  {
   "cell_type": "markdown",
   "id": "a48e82f2",
   "metadata": {},
   "source": [
    "3.) Use slicing/indexing to obtain the four elements in the bottom right corner of `a`."
   ]
  },
  {
   "cell_type": "code",
   "execution_count": null,
   "id": "f6923655",
   "metadata": {},
   "outputs": [],
   "source": []
  },
  {
   "cell_type": "markdown",
   "id": "532a2c4d",
   "metadata": {},
   "source": [
    "4.) Use slicing/indexing to obtain only the 2 digit numbers in the first two columns."
   ]
  },
  {
   "cell_type": "code",
   "execution_count": null,
   "id": "6b2c9982",
   "metadata": {},
   "outputs": [],
   "source": []
  },
  {
   "cell_type": "markdown",
   "id": "91b6fdaa",
   "metadata": {},
   "source": [
    "5.) Use slicing/indexing to obtain only the 1 digit numbers in the last two rows."
   ]
  },
  {
   "cell_type": "code",
   "execution_count": null,
   "id": "72f1a680",
   "metadata": {},
   "outputs": [],
   "source": []
  },
  {
   "cell_type": "markdown",
   "id": "a9df5866",
   "metadata": {},
   "source": [
    "6.) Use slicing/indexing to obtain the element directly in the middle of `a`."
   ]
  },
  {
   "cell_type": "code",
   "execution_count": null,
   "id": "a12bea40",
   "metadata": {},
   "outputs": [],
   "source": []
  },
  {
   "cell_type": "markdown",
   "id": "410d01db",
   "metadata": {},
   "source": [
    "7.) Use slicing/indexing to obtain the element in each of the four corners of `a`."
   ]
  },
  {
   "cell_type": "code",
   "execution_count": null,
   "id": "260a0533",
   "metadata": {},
   "outputs": [],
   "source": []
  },
  {
   "cell_type": "markdown",
   "id": "e56ce6f3",
   "metadata": {},
   "source": [
    "8.) Use slicing/indexing to obtain the middle 3 entries of the middle 3 rows."
   ]
  },
  {
   "cell_type": "code",
   "execution_count": null,
   "id": "9841f06c",
   "metadata": {},
   "outputs": [],
   "source": []
  },
  {
   "cell_type": "markdown",
   "id": "6a35e6ee",
   "metadata": {},
   "source": [
    "**Exercises: Part B**"
   ]
  },
  {
   "cell_type": "code",
   "execution_count": 12,
   "id": "cc33a9c5",
   "metadata": {},
   "outputs": [
    {
     "name": "stdout",
     "output_type": "stream",
     "text": [
      "[10 12 14 16 18 20 22 24 26 28 30 32 34 36 38 40 42 44 46 48 50 52 54]\n"
     ]
    }
   ],
   "source": [
    "C = np.arange(10,55,2)\n",
    "print(C)"
   ]
  },
  {
   "cell_type": "markdown",
   "id": "c177d8d7",
   "metadata": {},
   "source": [
    "1.) Use slicing/indexing to obtain the middle 3 entries of `C`."
   ]
  },
  {
   "cell_type": "code",
   "execution_count": null,
   "id": "7a034b96",
   "metadata": {},
   "outputs": [],
   "source": []
  },
  {
   "cell_type": "markdown",
   "id": "665936f7",
   "metadata": {},
   "source": [
    "2.) Use slicing/indexing to obtain every other entry of `C`."
   ]
  },
  {
   "cell_type": "code",
   "execution_count": null,
   "id": "17488a53",
   "metadata": {},
   "outputs": [],
   "source": []
  },
  {
   "cell_type": "markdown",
   "id": "72dfa21c",
   "metadata": {},
   "source": [
    "### Array Manipulation Routines"
   ]
  },
  {
   "cell_type": "markdown",
   "id": "9368459f",
   "metadata": {},
   "source": [
    "We will now look some of the ways we can manipulate our ndarrays. "
   ]
  },
  {
   "cell_type": "markdown",
   "id": "0f6acdad",
   "metadata": {},
   "source": [
    "**1. `ndarray.reshape()`**"
   ]
  },
  {
   "cell_type": "markdown",
   "id": "7141ad44",
   "metadata": {},
   "source": [
    "The `.reshape()` method allows us to give our array a new shape without changing its data.\n",
    "\n",
    "By passing in the new shape we want as an argument, the `.reshape()` method will rearrange our array to the desired shape."
   ]
  },
  {
   "cell_type": "markdown",
   "id": "6943e39f",
   "metadata": {},
   "source": [
    "Let's first create a 3 x 6 array to work with."
   ]
  },
  {
   "cell_type": "code",
   "execution_count": 21,
   "id": "ca4b40c9",
   "metadata": {},
   "outputs": [
    {
     "name": "stdout",
     "output_type": "stream",
     "text": [
      "[[5 5 5 5 5 5]\n",
      " [5 5 5 5 5 5]\n",
      " [5 5 5 5 5 5]]\n"
     ]
    }
   ],
   "source": [
    "qq = np.full((3,6), 5)\n",
    "print(qq)"
   ]
  },
  {
   "cell_type": "markdown",
   "id": "ddd1a272",
   "metadata": {},
   "source": [
    "If we wanted to turn our 3 x 6 array into a 6 x 3 array, we could say `qq.reshape(6,3)`:"
   ]
  },
  {
   "cell_type": "code",
   "execution_count": 27,
   "id": "1449c01d",
   "metadata": {},
   "outputs": [
    {
     "data": {
      "text/plain": [
       "array([[5, 5, 5],\n",
       "       [5, 5, 5],\n",
       "       [5, 5, 5],\n",
       "       [5, 5, 5],\n",
       "       [5, 5, 5],\n",
       "       [5, 5, 5]])"
      ]
     },
     "execution_count": 27,
     "metadata": {},
     "output_type": "execute_result"
    }
   ],
   "source": [
    "qq.reshape(6,3)"
   ]
  },
  {
   "cell_type": "code",
   "execution_count": 23,
   "id": "5b847143",
   "metadata": {},
   "outputs": [
    {
     "name": "stdout",
     "output_type": "stream",
     "text": [
      "[[5 5 5 5 5 5]\n",
      " [5 5 5 5 5 5]\n",
      " [5 5 5 5 5 5]]\n"
     ]
    }
   ],
   "source": [
    "print(qq)"
   ]
  },
  {
   "cell_type": "markdown",
   "id": "0164ef95",
   "metadata": {},
   "source": [
    "Notice that calling the `.reshape` method does not alter the data in the original array.\n",
    "\n",
    "If we wanted to keep our reshaped array, we would have to set our variable `qq` to the new array:"
   ]
  },
  {
   "cell_type": "code",
   "execution_count": 26,
   "id": "85095781",
   "metadata": {
    "scrolled": false
   },
   "outputs": [
    {
     "name": "stdout",
     "output_type": "stream",
     "text": [
      "[[5 5 5]\n",
      " [5 5 5]\n",
      " [5 5 5]\n",
      " [5 5 5]\n",
      " [5 5 5]\n",
      " [5 5 5]]\n"
     ]
    }
   ],
   "source": [
    "qq = qq.reshape(6,3)\n",
    "print(qq)"
   ]
  },
  {
   "cell_type": "markdown",
   "id": "7f11dbe6",
   "metadata": {},
   "source": [
    "Finally, note that we need to pass in valid dimensions for reshaping or Python will produce an error.\n",
    "\n",
    "For example, we cannot reshape a 6 x 3 array into a 2 x 2 array:"
   ]
  },
  {
   "cell_type": "code",
   "execution_count": null,
   "id": "d0d89a1b",
   "metadata": {},
   "outputs": [],
   "source": [
    "qq.reshape(2,2) # will raise an error"
   ]
  },
  {
   "cell_type": "markdown",
   "id": "afdeb954",
   "metadata": {},
   "source": [
    "One way to check is by making sure $a_{original} \\cdot b_{original} = a_{reshape} \\cdot b_{reshape}$\n",
    "\n",
    "This will ensure that both arrays have the same number of elements and are a valid reshaping dimension."
   ]
  },
  {
   "cell_type": "code",
   "execution_count": 43,
   "id": "13db630f",
   "metadata": {},
   "outputs": [
    {
     "data": {
      "text/plain": [
       "array([[5, 5, 5, 5, 5, 5, 5, 5, 5, 5, 5, 5, 5, 5, 5, 5, 5, 5]])"
      ]
     },
     "execution_count": 43,
     "metadata": {},
     "output_type": "execute_result"
    }
   ],
   "source": [
    "qq.reshape(1,18)"
   ]
  },
  {
   "cell_type": "markdown",
   "id": "24b5a6b7",
   "metadata": {},
   "source": [
    "If we are unsure of a certain row/column dimension, we can leave it as `-1` in `.reshape()` and the function will automatically adjust accordingly."
   ]
  },
  {
   "cell_type": "code",
   "execution_count": 21,
   "id": "ebbda31c",
   "metadata": {
    "scrolled": false
   },
   "outputs": [
    {
     "name": "stdout",
     "output_type": "stream",
     "text": [
      "[[5 5 5 5]\n",
      " [5 5 5 5]\n",
      " [5 5 5 5]\n",
      " [5 5 5 5]\n",
      " [5 5 5 5]\n",
      " [5 5 5 5]\n",
      " [5 5 5 5]\n",
      " [5 5 5 5]]\n"
     ]
    }
   ],
   "source": [
    "K = np.full((8,4), 5)\n",
    "print(K)"
   ]
  },
  {
   "cell_type": "markdown",
   "id": "88f723b9",
   "metadata": {},
   "source": [
    "If we wanted to reshape `K` to have two columns but were unsure the number of rows, we could input `-1` into the number of rows and `.reshape()` will adjust."
   ]
  },
  {
   "cell_type": "code",
   "execution_count": 22,
   "id": "2735a38e",
   "metadata": {
    "scrolled": true
   },
   "outputs": [
    {
     "data": {
      "text/plain": [
       "array([[5, 5],\n",
       "       [5, 5],\n",
       "       [5, 5],\n",
       "       [5, 5],\n",
       "       [5, 5],\n",
       "       [5, 5],\n",
       "       [5, 5],\n",
       "       [5, 5],\n",
       "       [5, 5],\n",
       "       [5, 5],\n",
       "       [5, 5],\n",
       "       [5, 5],\n",
       "       [5, 5],\n",
       "       [5, 5],\n",
       "       [5, 5],\n",
       "       [5, 5]])"
      ]
     },
     "execution_count": 22,
     "metadata": {},
     "output_type": "execute_result"
    }
   ],
   "source": [
    "K.reshape(-1,2)"
   ]
  },
  {
   "cell_type": "markdown",
   "id": "1bda9800",
   "metadata": {},
   "source": [
    "Here we see that `.reshape()` created 16 rows which is the correct dimension that we inputted `-1` for."
   ]
  },
  {
   "cell_type": "markdown",
   "id": "a1a1886e",
   "metadata": {},
   "source": [
    "**2. `ndarray.ravel()`**"
   ]
  },
  {
   "cell_type": "markdown",
   "id": "179cdec3",
   "metadata": {},
   "source": [
    "The `.ravel()` method returns a 1D \"flattened\" version of our array:"
   ]
  },
  {
   "cell_type": "code",
   "execution_count": 28,
   "id": "fce0fed5",
   "metadata": {},
   "outputs": [
    {
     "data": {
      "text/plain": [
       "array([5, 5, 5, 5, 5, 5, 5, 5, 5, 5, 5, 5, 5, 5, 5, 5, 5, 5])"
      ]
     },
     "execution_count": 28,
     "metadata": {},
     "output_type": "execute_result"
    }
   ],
   "source": [
    "qq.ravel()"
   ]
  },
  {
   "cell_type": "markdown",
   "id": "3071240c",
   "metadata": {},
   "source": [
    "**3. `ndarray.transpose()`**"
   ]
  },
  {
   "cell_type": "markdown",
   "id": "429ffffc",
   "metadata": {},
   "source": [
    "Transposing array just means switching the rows and columns:"
   ]
  },
  {
   "attachments": {
    "transpose-of-a-matrix-03-1624617634.png": {
     "image/png": "[encoded data removed]"
    }
   },
   "cell_type": "markdown",
   "id": "e1a409aa",
   "metadata": {},
   "source": [
    "![transpose-of-a-matrix-03-1624617634.png](attachment:transpose-of-a-matrix-03-1624617634.png)"
   ]
  },
  {
   "cell_type": "code",
   "execution_count": 34,
   "id": "28efa244",
   "metadata": {},
   "outputs": [
    {
     "name": "stdout",
     "output_type": "stream",
     "text": [
      "[[1 2 3]\n",
      " [4 5 6]]\n"
     ]
    }
   ],
   "source": [
    "A = np.array([[1,2,3],[4,5,6]])\n",
    "print(A)"
   ]
  },
  {
   "cell_type": "code",
   "execution_count": 35,
   "id": "4ed164c5",
   "metadata": {},
   "outputs": [
    {
     "name": "stdout",
     "output_type": "stream",
     "text": [
      "(2, 3)\n"
     ]
    }
   ],
   "source": [
    "print(A.shape)"
   ]
  },
  {
   "cell_type": "code",
   "execution_count": 31,
   "id": "aae0946f",
   "metadata": {
    "scrolled": true
   },
   "outputs": [
    {
     "data": {
      "text/plain": [
       "array([[1, 4],\n",
       "       [2, 5],\n",
       "       [3, 6]])"
      ]
     },
     "execution_count": 31,
     "metadata": {},
     "output_type": "execute_result"
    }
   ],
   "source": [
    "A.transpose()"
   ]
  },
  {
   "cell_type": "code",
   "execution_count": 39,
   "id": "e63dabdd",
   "metadata": {},
   "outputs": [
    {
     "name": "stdout",
     "output_type": "stream",
     "text": [
      "(3, 2)\n"
     ]
    }
   ],
   "source": [
    "print(A.transpose().shape)"
   ]
  },
  {
   "cell_type": "markdown",
   "id": "263401a6",
   "metadata": {},
   "source": [
    "This is an extremely important concept in linear algebra, though in this course we can just recognize it as an array manipulation.\n",
    "\n",
    "The row/column dimensions get switched during transposition, as we can see our array turned from shape `(2, 3)` to `(3, 2)`."
   ]
  },
  {
   "cell_type": "markdown",
   "id": "5bf92ed5",
   "metadata": {},
   "source": [
    "**4. `np.concatenate()`**"
   ]
  },
  {
   "cell_type": "markdown",
   "id": "715045dc",
   "metadata": {},
   "source": [
    "The `np.concatenate()` function involves joing multiple arrays together.\n",
    "\n",
    "We just need to pass in two arrays and the axis that we wanted them to be joined upon:"
   ]
  },
  {
   "cell_type": "code",
   "execution_count": 50,
   "id": "afa8f1cd",
   "metadata": {},
   "outputs": [
    {
     "name": "stdout",
     "output_type": "stream",
     "text": [
      "[[14 14 14 14 14 14 14 14]\n",
      " [14 14 14 14 14 14 14 14]\n",
      " [14 14 14 14 14 14 14 14]\n",
      " [14 14 14 14 14 14 14 14]]\n"
     ]
    }
   ],
   "source": [
    "a = np.full((4,8), 14)\n",
    "print(a)"
   ]
  },
  {
   "cell_type": "code",
   "execution_count": 51,
   "id": "a16d0316",
   "metadata": {},
   "outputs": [
    {
     "name": "stdout",
     "output_type": "stream",
     "text": [
      "[[3 3 3 3 3 3]\n",
      " [3 3 3 3 3 3]\n",
      " [3 3 3 3 3 3]\n",
      " [3 3 3 3 3 3]]\n"
     ]
    }
   ],
   "source": [
    "b = np.full((4,6), 3)\n",
    "print(b)"
   ]
  },
  {
   "cell_type": "code",
   "execution_count": 53,
   "id": "19359f5b",
   "metadata": {
    "scrolled": true
   },
   "outputs": [
    {
     "data": {
      "text/plain": [
       "array([[14, 14, 14, 14, 14, 14, 14, 14,  3,  3,  3,  3,  3,  3],\n",
       "       [14, 14, 14, 14, 14, 14, 14, 14,  3,  3,  3,  3,  3,  3],\n",
       "       [14, 14, 14, 14, 14, 14, 14, 14,  3,  3,  3,  3,  3,  3],\n",
       "       [14, 14, 14, 14, 14, 14, 14, 14,  3,  3,  3,  3,  3,  3]])"
      ]
     },
     "execution_count": 53,
     "metadata": {},
     "output_type": "execute_result"
    }
   ],
   "source": [
    "np.concatenate((a,b),axis=1)"
   ]
  },
  {
   "cell_type": "markdown",
   "id": "18bc2dc8",
   "metadata": {},
   "source": [
    "Note that the order of arrays provided matters, and so switching the order would produce a different result."
   ]
  },
  {
   "cell_type": "code",
   "execution_count": 55,
   "id": "5e56d36b",
   "metadata": {},
   "outputs": [
    {
     "data": {
      "text/plain": [
       "array([[ 3,  3,  3,  3,  3,  3, 14, 14, 14, 14, 14, 14, 14, 14],\n",
       "       [ 3,  3,  3,  3,  3,  3, 14, 14, 14, 14, 14, 14, 14, 14],\n",
       "       [ 3,  3,  3,  3,  3,  3, 14, 14, 14, 14, 14, 14, 14, 14],\n",
       "       [ 3,  3,  3,  3,  3,  3, 14, 14, 14, 14, 14, 14, 14, 14]])"
      ]
     },
     "execution_count": 55,
     "metadata": {},
     "output_type": "execute_result"
    }
   ],
   "source": [
    "np.concatenate((b,a),axis=1)"
   ]
  },
  {
   "cell_type": "markdown",
   "id": "01b7cdda",
   "metadata": {},
   "source": [
    "Here we concatenated the columns together (axis=1) but we could also concatenate the rows:"
   ]
  },
  {
   "cell_type": "code",
   "execution_count": 56,
   "id": "fa8e26c3",
   "metadata": {},
   "outputs": [
    {
     "name": "stdout",
     "output_type": "stream",
     "text": [
      "[[31 31 31 31 31]]\n"
     ]
    }
   ],
   "source": [
    "x = np.full((1,5), 31)\n",
    "print(x)"
   ]
  },
  {
   "cell_type": "code",
   "execution_count": 57,
   "id": "8f37a2ef",
   "metadata": {},
   "outputs": [
    {
     "name": "stdout",
     "output_type": "stream",
     "text": [
      "[[2 2 2 2 2]\n",
      " [2 2 2 2 2]\n",
      " [2 2 2 2 2]\n",
      " [2 2 2 2 2]\n",
      " [2 2 2 2 2]\n",
      " [2 2 2 2 2]]\n"
     ]
    }
   ],
   "source": [
    "y = np.full((6,5),2)\n",
    "print(y)"
   ]
  },
  {
   "cell_type": "code",
   "execution_count": 60,
   "id": "970a190f",
   "metadata": {},
   "outputs": [
    {
     "data": {
      "text/plain": [
       "array([[31, 31, 31, 31, 31],\n",
       "       [ 2,  2,  2,  2,  2],\n",
       "       [ 2,  2,  2,  2,  2],\n",
       "       [ 2,  2,  2,  2,  2],\n",
       "       [ 2,  2,  2,  2,  2],\n",
       "       [ 2,  2,  2,  2,  2],\n",
       "       [ 2,  2,  2,  2,  2]])"
      ]
     },
     "execution_count": 60,
     "metadata": {},
     "output_type": "execute_result"
    }
   ],
   "source": [
    "np.concatenate((x,y), axis=0)"
   ]
  },
  {
   "cell_type": "code",
   "execution_count": 61,
   "id": "174e269a",
   "metadata": {},
   "outputs": [
    {
     "data": {
      "text/plain": [
       "array([[ 2,  2,  2,  2,  2],\n",
       "       [ 2,  2,  2,  2,  2],\n",
       "       [ 2,  2,  2,  2,  2],\n",
       "       [ 2,  2,  2,  2,  2],\n",
       "       [ 2,  2,  2,  2,  2],\n",
       "       [ 2,  2,  2,  2,  2],\n",
       "       [31, 31, 31, 31, 31]])"
      ]
     },
     "execution_count": 61,
     "metadata": {},
     "output_type": "execute_result"
    }
   ],
   "source": [
    "np.concatenate((y,x), axis=0)"
   ]
  },
  {
   "cell_type": "markdown",
   "id": "7c353b76",
   "metadata": {},
   "source": [
    "**5. `np.row_stack()` & `np.column_stack()`**"
   ]
  },
  {
   "cell_type": "markdown",
   "id": "c53d9cda",
   "metadata": {},
   "source": [
    "We can also stack smaller arrays to create larger arrays using the `np.row_stack()` and `np.column_stack()` methods.\n",
    "\n",
    "* `np.row_stack()` stack arrays in sequence vertically (row wise)\n",
    "* `np.column_stack()` stacks 1-D arrays as columns into a 2-D array"
   ]
  },
  {
   "cell_type": "code",
   "execution_count": 51,
   "id": "2085bbcf",
   "metadata": {},
   "outputs": [
    {
     "data": {
      "text/plain": [
       "array([[ 1,  3,  5,  8],\n",
       "       [ 2,  4,  6, 12],\n",
       "       [ 7,  9, 11, 14]])"
      ]
     },
     "execution_count": 51,
     "metadata": {},
     "output_type": "execute_result"
    }
   ],
   "source": [
    "a = np.array([1,3,5,8])\n",
    "b = np.array([2,4,6,12])\n",
    "c = np.array([7,9,11,14])\n",
    "np.row_stack((a,b,c))"
   ]
  },
  {
   "cell_type": "code",
   "execution_count": 52,
   "id": "aae399c2",
   "metadata": {},
   "outputs": [
    {
     "data": {
      "text/plain": [
       "array([[ 1,  2,  7],\n",
       "       [ 3,  4,  9],\n",
       "       [ 5,  6, 11],\n",
       "       [ 8, 12, 14]])"
      ]
     },
     "execution_count": 52,
     "metadata": {},
     "output_type": "execute_result"
    }
   ],
   "source": [
    "np.column_stack((a,b,c))"
   ]
  },
  {
   "cell_type": "markdown",
   "id": "b41f39e3",
   "metadata": {},
   "source": [
    "**6. `np.split()`**"
   ]
  },
  {
   "cell_type": "markdown",
   "id": "974f0dd0",
   "metadata": {},
   "source": [
    "The `np.split()` function split an array into multiple sub-arrays.\n",
    "\n",
    "We just need to pass in an array and the indices/sections to split upon\n",
    "\n",
    "For instance, let's try to undo the stacking that we did for arrays a, b, c."
   ]
  },
  {
   "cell_type": "code",
   "execution_count": 53,
   "id": "4303419f",
   "metadata": {},
   "outputs": [
    {
     "name": "stdout",
     "output_type": "stream",
     "text": [
      "[[ 1  3  5  8]\n",
      " [ 2  4  6 12]\n",
      " [ 7  9 11 14]]\n"
     ]
    }
   ],
   "source": [
    "d = np.row_stack((a,b,c))\n",
    "print(d)"
   ]
  },
  {
   "cell_type": "code",
   "execution_count": 54,
   "id": "d491d87f",
   "metadata": {
    "scrolled": true
   },
   "outputs": [
    {
     "data": {
      "text/plain": [
       "[array([[1, 3, 5, 8]]), array([[ 2,  4,  6, 12]]), array([[ 7,  9, 11, 14]])]"
      ]
     },
     "execution_count": 54,
     "metadata": {},
     "output_type": "execute_result"
    }
   ],
   "source": [
    "np.split(d,3)"
   ]
  },
  {
   "cell_type": "code",
   "execution_count": 55,
   "id": "af59c292",
   "metadata": {},
   "outputs": [
    {
     "name": "stdout",
     "output_type": "stream",
     "text": [
      "[[ 1  2  7]\n",
      " [ 3  4  9]\n",
      " [ 5  6 11]\n",
      " [ 8 12 14]]\n"
     ]
    }
   ],
   "source": [
    "e = np.column_stack((a,b,c))\n",
    "print(e)"
   ]
  },
  {
   "cell_type": "code",
   "execution_count": 56,
   "id": "8096900f",
   "metadata": {},
   "outputs": [
    {
     "data": {
      "text/plain": [
       "[array([[1, 2, 7]]),\n",
       " array([[3, 4, 9]]),\n",
       " array([[ 5,  6, 11]]),\n",
       " array([[ 8, 12, 14]])]"
      ]
     },
     "execution_count": 56,
     "metadata": {},
     "output_type": "execute_result"
    }
   ],
   "source": [
    "np.split(e,4)"
   ]
  },
  {
   "cell_type": "markdown",
   "id": "41a9d800",
   "metadata": {},
   "source": [
    "**7. `np.tile()`**"
   ]
  },
  {
   "cell_type": "markdown",
   "id": "c08ccc9b",
   "metadata": {},
   "source": [
    "We can use `np.tile()` to repeatedly repeat an array.\n",
    "\n",
    "We just need to pass in an array and the number of times we want it repeated:"
   ]
  },
  {
   "cell_type": "code",
   "execution_count": 57,
   "id": "d6ef9ff7",
   "metadata": {},
   "outputs": [
    {
     "data": {
      "text/plain": [
       "array([[1, 2, 3, 1, 2, 3, 1, 2, 3, 1, 2, 3],\n",
       "       [4, 5, 6, 4, 5, 6, 4, 5, 6, 4, 5, 6]])"
      ]
     },
     "execution_count": 57,
     "metadata": {},
     "output_type": "execute_result"
    }
   ],
   "source": [
    "bb = np.array([[1,2,3],[4,5,6]])\n",
    "np.tile(bb,4)"
   ]
  },
  {
   "cell_type": "markdown",
   "id": "61208601",
   "metadata": {},
   "source": [
    "We see that our original array is copied four times."
   ]
  },
  {
   "cell_type": "markdown",
   "id": "8863317a",
   "metadata": {},
   "source": [
    "**8. `np.delete()`**"
   ]
  },
  {
   "cell_type": "markdown",
   "id": "539afffc",
   "metadata": {},
   "source": [
    "The `np.delete()` function returns a new array with sub-arrays along a given indices deleted.\n",
    "\n",
    "* The `obj` argument is the index of the row/column you would like to remove\n",
    "* The `axis` argument is whether you want to remove rows or columns\n",
    "\n",
    "For instance if we wanted to remove the second row from our array, we could use:\n",
    "* `obj = 1` for row at index 1\n",
    "* `axis = 0` to specify we want to remove a row\n"
   ]
  },
  {
   "cell_type": "code",
   "execution_count": 58,
   "id": "24044170",
   "metadata": {},
   "outputs": [
    {
     "data": {
      "text/plain": [
       "array([[ 1,  2,  7],\n",
       "       [ 3,  4,  9],\n",
       "       [ 5,  6, 11],\n",
       "       [ 8, 12, 14]])"
      ]
     },
     "execution_count": 58,
     "metadata": {},
     "output_type": "execute_result"
    }
   ],
   "source": [
    "e"
   ]
  },
  {
   "cell_type": "code",
   "execution_count": 59,
   "id": "65477941",
   "metadata": {
    "scrolled": true
   },
   "outputs": [
    {
     "data": {
      "text/plain": [
       "array([[ 1,  2,  7],\n",
       "       [ 5,  6, 11],\n",
       "       [ 8, 12, 14]])"
      ]
     },
     "execution_count": 59,
     "metadata": {},
     "output_type": "execute_result"
    }
   ],
   "source": [
    "np.delete(e,obj=1,axis=0)"
   ]
  },
  {
   "cell_type": "markdown",
   "id": "bad3f12b",
   "metadata": {},
   "source": [
    "Iff we wanted to remove the third row from our array, we could use:\n",
    "* `obj = 2` for column at index 2\n",
    "* `axis = 1` to specify we want to remove a column"
   ]
  },
  {
   "cell_type": "code",
   "execution_count": 143,
   "id": "6baee97a",
   "metadata": {},
   "outputs": [
    {
     "data": {
      "text/plain": [
       "array([[ 1,  2],\n",
       "       [ 3,  4],\n",
       "       [ 5,  6],\n",
       "       [ 8, 12]])"
      ]
     },
     "execution_count": 143,
     "metadata": {},
     "output_type": "execute_result"
    }
   ],
   "source": [
    "np.delete(e,obj=2,axis=1)"
   ]
  },
  {
   "cell_type": "markdown",
   "id": "844e1e95",
   "metadata": {},
   "source": [
    "**9. `np.insert()`**"
   ]
  },
  {
   "cell_type": "markdown",
   "id": "7d1571d7",
   "metadata": {},
   "source": [
    "We can use `np.insert()` to add new values into our array.\n",
    "\n",
    "TO use `np.insert()` we must provide:\n",
    "* The original array\n",
    "* The index of the row/column to insert\n",
    "* The value(s) to insert\n",
    "* The axis, ie. rows (axis=0) or columns (axis=1)\n"
   ]
  },
  {
   "cell_type": "code",
   "execution_count": 158,
   "id": "69978dcb",
   "metadata": {
    "scrolled": true
   },
   "outputs": [
    {
     "name": "stdout",
     "output_type": "stream",
     "text": [
      "[[1 1]\n",
      " [2 2]\n",
      " [3 3]]\n"
     ]
    }
   ],
   "source": [
    "a = np.array([[1, 1], [2, 2], [3, 3]])\n",
    "print(a)"
   ]
  },
  {
   "cell_type": "markdown",
   "id": "a1d4adff",
   "metadata": {},
   "source": [
    "For example, if we wanted to insert a column of 5's into column index 1, we would use:"
   ]
  },
  {
   "cell_type": "code",
   "execution_count": 145,
   "id": "ac3da183",
   "metadata": {},
   "outputs": [
    {
     "data": {
      "text/plain": [
       "array([[1, 5, 1],\n",
       "       [2, 5, 2],\n",
       "       [3, 5, 3]])"
      ]
     },
     "execution_count": 145,
     "metadata": {},
     "output_type": "execute_result"
    }
   ],
   "source": [
    "np.insert(a, 1, 5, axis=1)"
   ]
  },
  {
   "cell_type": "markdown",
   "id": "275ba303",
   "metadata": {},
   "source": [
    "And if we wanted to insert a bottom row of 4's we would use:"
   ]
  },
  {
   "cell_type": "code",
   "execution_count": 159,
   "id": "c231daa0",
   "metadata": {},
   "outputs": [
    {
     "data": {
      "text/plain": [
       "array([[1, 1],\n",
       "       [2, 2],\n",
       "       [3, 3],\n",
       "       [4, 4]])"
      ]
     },
     "execution_count": 159,
     "metadata": {},
     "output_type": "execute_result"
    }
   ],
   "source": [
    "np.insert(a,3,4, axis=0)"
   ]
  },
  {
   "cell_type": "markdown",
   "id": "12ef3447",
   "metadata": {},
   "source": [
    "**10. `np.unique()`**"
   ]
  },
  {
   "cell_type": "markdown",
   "id": "94c31deb",
   "metadata": {},
   "source": [
    "We can use `np.unique()` to find the unique elements of an array.\n",
    "\n"
   ]
  },
  {
   "cell_type": "code",
   "execution_count": 161,
   "id": "223e0012",
   "metadata": {},
   "outputs": [
    {
     "name": "stdout",
     "output_type": "stream",
     "text": [
      "[[1 2 3]\n",
      " [3 2 1]]\n"
     ]
    }
   ],
   "source": [
    "bb = np.array([[1,2,3],[3,2,1]])\n",
    "print(bb)"
   ]
  },
  {
   "cell_type": "code",
   "execution_count": 162,
   "id": "d616ebd5",
   "metadata": {},
   "outputs": [
    {
     "data": {
      "text/plain": [
       "array([1, 2, 3])"
      ]
     },
     "execution_count": 162,
     "metadata": {},
     "output_type": "execute_result"
    }
   ],
   "source": [
    "np.unique(bb)"
   ]
  },
  {
   "cell_type": "markdown",
   "id": "f7ebdd6c",
   "metadata": {},
   "source": [
    "We see that only the unique elements of our array are produced."
   ]
  },
  {
   "cell_type": "markdown",
   "id": "9f00fba5",
   "metadata": {},
   "source": [
    "**Exercises**"
   ]
  },
  {
   "cell_type": "markdown",
   "id": "f60114ee",
   "metadata": {},
   "source": [
    "1.) Reshape a 10 x 6 array to have 15 columns."
   ]
  },
  {
   "cell_type": "code",
   "execution_count": null,
   "id": "26d0b457",
   "metadata": {},
   "outputs": [],
   "source": []
  },
  {
   "cell_type": "markdown",
   "id": "e8f87eaa",
   "metadata": {},
   "source": [
    "2.) Reshape a 3 x 8 array to have 24 rows."
   ]
  },
  {
   "cell_type": "code",
   "execution_count": null,
   "id": "e6b1634f",
   "metadata": {},
   "outputs": [],
   "source": []
  },
  {
   "cell_type": "markdown",
   "id": "467b5e49",
   "metadata": {},
   "source": [
    "3.) Turn a 10 x 10 identity matrix into a 1D array using `.ravel`."
   ]
  },
  {
   "cell_type": "code",
   "execution_count": null,
   "id": "7c5b60ba",
   "metadata": {},
   "outputs": [],
   "source": []
  },
  {
   "cell_type": "markdown",
   "id": "7d4b5b1e",
   "metadata": {},
   "source": [
    "4.) T/F The tranpose of a 4x8 matrix has 8 rows and 4 columns."
   ]
  },
  {
   "cell_type": "code",
   "execution_count": null,
   "id": "7fde7e4c",
   "metadata": {},
   "outputs": [],
   "source": []
  },
  {
   "cell_type": "markdown",
   "id": "754174da",
   "metadata": {},
   "source": [
    "5.) T/F The tranpose of a 21x6 matrix has 6 columns and 21 rows."
   ]
  },
  {
   "cell_type": "code",
   "execution_count": null,
   "id": "22e5f4d8",
   "metadata": {},
   "outputs": [],
   "source": []
  },
  {
   "cell_type": "markdown",
   "id": "1ab28090",
   "metadata": {},
   "source": [
    "6.) Use concatenate/stack to create an 6 x 6 array where the left half has odd integers and the right half has even integers."
   ]
  },
  {
   "cell_type": "code",
   "execution_count": null,
   "id": "a9b5b44b",
   "metadata": {},
   "outputs": [],
   "source": []
  },
  {
   "cell_type": "markdown",
   "id": "d576bcb1",
   "metadata": {},
   "source": [
    "7.) Use concatenate/stack to create an 6 x 6 array where the bottom half has even integers and the top half has odd integers."
   ]
  },
  {
   "cell_type": "code",
   "execution_count": null,
   "id": "bbd12776",
   "metadata": {},
   "outputs": [],
   "source": []
  },
  {
   "cell_type": "markdown",
   "id": "350b7992",
   "metadata": {},
   "source": [
    "8.) Create an array with only 3 unique value and use `.unique` to verify."
   ]
  },
  {
   "cell_type": "code",
   "execution_count": null,
   "id": "399287e1",
   "metadata": {},
   "outputs": [],
   "source": []
  },
  {
   "cell_type": "markdown",
   "id": "58952a1b",
   "metadata": {},
   "source": [
    "9.) Use `delete()` on the array from above to remove all non-unique elements."
   ]
  },
  {
   "cell_type": "code",
   "execution_count": null,
   "id": "e29dcc4a",
   "metadata": {},
   "outputs": [],
   "source": []
  },
  {
   "cell_type": "markdown",
   "id": "d973e50c",
   "metadata": {},
   "source": [
    "10.) Create a 5 x 5 array with unique entries and split it by rows."
   ]
  },
  {
   "cell_type": "code",
   "execution_count": null,
   "id": "6d4f62c6",
   "metadata": {},
   "outputs": [],
   "source": []
  },
  {
   "cell_type": "markdown",
   "id": "90cf7837",
   "metadata": {},
   "source": [
    "11.) Create a 4 x 4 array with unique entries and split it by columns."
   ]
  },
  {
   "cell_type": "code",
   "execution_count": null,
   "id": "61cac676",
   "metadata": {},
   "outputs": [],
   "source": []
  },
  {
   "cell_type": "markdown",
   "id": "5b875d18",
   "metadata": {},
   "source": [
    "12.) Use `.tile()` to repeat a 3 x 1 array 10 times."
   ]
  },
  {
   "cell_type": "code",
   "execution_count": null,
   "id": "3e5c4ae5",
   "metadata": {},
   "outputs": [],
   "source": []
  },
  {
   "cell_type": "markdown",
   "id": "a99e0ad0",
   "metadata": {},
   "source": [
    "13.) Create a 6 x 2 array and then use `.insert()` to insert an extra row."
   ]
  },
  {
   "cell_type": "code",
   "execution_count": null,
   "id": "79c1aa4b",
   "metadata": {},
   "outputs": [],
   "source": []
  },
  {
   "cell_type": "markdown",
   "id": "a202ce03",
   "metadata": {},
   "source": [
    "14.) Create a 3 x 12 array and then use `.insert()` to insert an extra column."
   ]
  },
  {
   "cell_type": "code",
   "execution_count": null,
   "id": "e8771f47",
   "metadata": {},
   "outputs": [],
   "source": []
  },
  {
   "cell_type": "markdown",
   "id": "fbbf8771",
   "metadata": {},
   "source": [
    "15.) Create a 7 x 5 array and then use `.delete()` to remove a row and a column."
   ]
  },
  {
   "cell_type": "code",
   "execution_count": null,
   "id": "49da5732",
   "metadata": {},
   "outputs": [],
   "source": []
  },
  {
   "cell_type": "markdown",
   "id": "67607d4d",
   "metadata": {},
   "source": [
    "### Strings"
   ]
  },
  {
   "cell_type": "markdown",
   "id": "dec5050d",
   "metadata": {},
   "source": [
    "NumPy also has a plethora of helpful functions for working with arrays of strings:\n",
    "* String Operations\n",
    "* String Comparison\n",
    "* String Information"
   ]
  },
  {
   "cell_type": "markdown",
   "id": "11640138",
   "metadata": {},
   "source": [
    "**String Operations**"
   ]
  },
  {
   "cell_type": "markdown",
   "id": "49d8e845",
   "metadata": {},
   "source": [
    "The `np.char` module provides a set of vectorized string operations for arrays of type numpy.str"
   ]
  },
  {
   "cell_type": "markdown",
   "id": "ed2ec9c0",
   "metadata": {},
   "source": [
    "`np.char.add(x1,x2)` performs elementwise addition of the strings in each array:"
   ]
  },
  {
   "cell_type": "code",
   "execution_count": 55,
   "id": "8dd2caa7",
   "metadata": {
    "scrolled": true
   },
   "outputs": [
    {
     "data": {
      "text/plain": [
       "array(['Hello Marty', 'Hello Wendy', 'Hello Charlotte', 'Hello Jonah',\n",
       "       'Hello Omar'], dtype='<U15')"
      ]
     },
     "execution_count": 55,
     "metadata": {},
     "output_type": "execute_result"
    }
   ],
   "source": [
    "s1 = np.array([\"Hello \"])\n",
    "s2 = np.array([\"Marty\", \"Wendy\", \"Charlotte\", \"Jonah\", \"Omar\"])\n",
    "np.char.add(s1, s2)"
   ]
  },
  {
   "cell_type": "markdown",
   "id": "dc1e0092",
   "metadata": {},
   "source": [
    "`np.char.multiply()` performs string multiplication for a given `a` times:"
   ]
  },
  {
   "cell_type": "code",
   "execution_count": 58,
   "id": "63f4a0bc",
   "metadata": {},
   "outputs": [
    {
     "data": {
      "text/plain": [
       "array(['11', '22', '33', '44', '55'], dtype='<U2')"
      ]
     },
     "execution_count": 58,
     "metadata": {},
     "output_type": "execute_result"
    }
   ],
   "source": [
    "lon = np.array(['1','2','3','4','5'])\n",
    "np.char.multiply(lon,2)"
   ]
  },
  {
   "cell_type": "markdown",
   "id": "ba7aea71",
   "metadata": {},
   "source": [
    "`np.char.capitalize()` capitalizes the first character of each element:"
   ]
  },
  {
   "cell_type": "code",
   "execution_count": 56,
   "id": "52c1bca2",
   "metadata": {},
   "outputs": [
    {
     "data": {
      "text/plain": [
       "array(['January', 'February', 'March', 'April', 'May'], dtype='<U8')"
      ]
     },
     "execution_count": 56,
     "metadata": {},
     "output_type": "execute_result"
    }
   ],
   "source": [
    "lower_months = np.array([\"january\", \"february\", \"march\", \"april\", \"may\"])\n",
    "np.char.capitalize(lower_months)"
   ]
  },
  {
   "cell_type": "markdown",
   "id": "784af4e7",
   "metadata": {},
   "source": [
    "`np.char.lower()` converts all string characters to lowercase:"
   ]
  },
  {
   "cell_type": "code",
   "execution_count": 59,
   "id": "108a79ee",
   "metadata": {},
   "outputs": [
    {
     "data": {
      "text/plain": [
       "array(['a', 'e', 'i', 'o', 'u'], dtype='<U1')"
      ]
     },
     "execution_count": 59,
     "metadata": {},
     "output_type": "execute_result"
    }
   ],
   "source": [
    "all_caps = np.array(['A','E','I','O','U'])\n",
    "np.char.lower(all_caps)"
   ]
  },
  {
   "cell_type": "markdown",
   "id": "ba53f680",
   "metadata": {},
   "source": [
    "`np.char.upper()` converts all string characters to uppercase:"
   ]
  },
  {
   "cell_type": "code",
   "execution_count": 8,
   "id": "df9d4d05",
   "metadata": {},
   "outputs": [
    {
     "data": {
      "text/plain": [
       "array(['A', 'E', 'I', 'O', 'U'], dtype='<U1')"
      ]
     },
     "execution_count": 8,
     "metadata": {},
     "output_type": "execute_result"
    }
   ],
   "source": [
    "lower_case = np.array(['a', 'e', 'i', 'o', 'u'])\n",
    "np.char.upper(lower_case)"
   ]
  },
  {
   "cell_type": "markdown",
   "id": "26f422b4",
   "metadata": {},
   "source": [
    "`np.char.strip()` is used to delete all the leading and trailing characters mentioned in its argument."
   ]
  },
  {
   "cell_type": "code",
   "execution_count": 61,
   "id": "07b818fe",
   "metadata": {},
   "outputs": [
    {
     "data": {
      "text/plain": [
       "array('only want this', dtype='<U40')"
      ]
     },
     "execution_count": 61,
     "metadata": {},
     "output_type": "execute_result"
    }
   ],
   "source": [
    "extra_space = \"              only want this            \"\n",
    "np.char.strip(extra_space,\" \")\n"
   ]
  },
  {
   "cell_type": "markdown",
   "id": "0ce2ddf3",
   "metadata": {},
   "source": [
    "`np.char.replace()` replaces all occurrences of an old substring with a new one:\n",
    "* Pass old substring as 2nd argument\n",
    "* Pass new substring as 3rd argument"
   ]
  },
  {
   "cell_type": "code",
   "execution_count": 3,
   "id": "866141cd",
   "metadata": {},
   "outputs": [
    {
     "data": {
      "text/plain": [
       "array(['September 29, 2022', 'October 9, 2022'], dtype='<U18')"
      ]
     },
     "execution_count": 3,
     "metadata": {},
     "output_type": "execute_result"
    }
   ],
   "source": [
    "np.char.replace(np.array(['September 29, 1966', 'October 9, 1966']), '1966', '2022') # replaces 1966 with 2022"
   ]
  },
  {
   "cell_type": "markdown",
   "id": "835248e7",
   "metadata": {},
   "source": [
    "`np.char.split()` splits a string into a list of strings based on a given separator:"
   ]
  },
  {
   "cell_type": "code",
   "execution_count": 6,
   "id": "7878ef16",
   "metadata": {},
   "outputs": [
    {
     "data": {
      "text/plain": [
       "array([list(['1', '2', '3', '4', '5', '6', '7', '8', '9'])], dtype=object)"
      ]
     },
     "execution_count": 6,
     "metadata": {},
     "output_type": "execute_result"
    }
   ],
   "source": [
    "np.char.split(np.array([\"1,2,3,4,5,6,7,8,9\"]), \",\") #splits a string into list using comma as delimiter"
   ]
  },
  {
   "cell_type": "code",
   "execution_count": 7,
   "id": "04e9d7c0",
   "metadata": {},
   "outputs": [
    {
     "data": {
      "text/plain": [
       "array([list(['These', 'words', 'should', 'be', 'in', 'a', 'list'])],\n",
       "      dtype=object)"
      ]
     },
     "execution_count": 7,
     "metadata": {},
     "output_type": "execute_result"
    }
   ],
   "source": [
    "np.char.split(np.array([\"These words should be in a list\"]), \" \") #splits a string into list using space as delimiter"
   ]
  },
  {
   "cell_type": "markdown",
   "id": "4e73231a",
   "metadata": {},
   "source": [
    "`np.char.count()` returns an array with a number of occurrences of a given substring in an array:"
   ]
  },
  {
   "cell_type": "code",
   "execution_count": 9,
   "id": "1891d87c",
   "metadata": {},
   "outputs": [
    {
     "data": {
      "text/plain": [
       "array([1, 3, 1, 0])"
      ]
     },
     "execution_count": 9,
     "metadata": {},
     "output_type": "execute_result"
    }
   ],
   "source": [
    "fruits = np.array(['apple', 'banana', 'orange', 'cherry'])\n",
    "np.char.count(fruits, 'a')"
   ]
  },
  {
   "cell_type": "markdown",
   "id": "4d662dad",
   "metadata": {},
   "source": [
    "`np.char.find()` returns an array with the lowest index in the string where  the given substring is found.\n",
    "* Note that if the substring is not found, the function returns `-1`"
   ]
  },
  {
   "cell_type": "code",
   "execution_count": 10,
   "id": "91dc0d5f",
   "metadata": {},
   "outputs": [
    {
     "data": {
      "text/plain": [
       "array([ 0,  1,  2, -1])"
      ]
     },
     "execution_count": 10,
     "metadata": {},
     "output_type": "execute_result"
    }
   ],
   "source": [
    "fruits = np.array(['apple', 'banana', 'orange', 'cherry'])\n",
    "np.char.find(fruits, 'a')"
   ]
  },
  {
   "cell_type": "markdown",
   "id": "484f11b2",
   "metadata": {},
   "source": [
    "Since there is no \"a\" is \"cherry\", the function returns `-1`."
   ]
  },
  {
   "cell_type": "markdown",
   "id": "628a4964",
   "metadata": {},
   "source": [
    "`numpy.char.str_len()` returns the lengths for each string in an array:"
   ]
  },
  {
   "cell_type": "code",
   "execution_count": 12,
   "id": "8ef690e3",
   "metadata": {},
   "outputs": [
    {
     "data": {
      "text/plain": [
       "array([5, 6, 6, 6])"
      ]
     },
     "execution_count": 12,
     "metadata": {},
     "output_type": "execute_result"
    }
   ],
   "source": [
    "fruits = np.array(['apple', 'banana', 'orange', 'cherry'])\n",
    "np.char.str_len(fruits)"
   ]
  },
  {
   "cell_type": "markdown",
   "id": "61f2d077",
   "metadata": {},
   "source": [
    "**Exercises: Part A**"
   ]
  },
  {
   "cell_type": "markdown",
   "id": "a6295aea",
   "metadata": {},
   "source": [
    "1.) Use `.char.add()` to make an array with the next 7 calendar days."
   ]
  },
  {
   "cell_type": "code",
   "execution_count": null,
   "id": "ace90bb0",
   "metadata": {},
   "outputs": [],
   "source": []
  },
  {
   "cell_type": "markdown",
   "id": "c6de465f",
   "metadata": {},
   "source": [
    "2.) Use `char.add()` to make an array for five family members with the same last name."
   ]
  },
  {
   "cell_type": "code",
   "execution_count": null,
   "id": "6f79792f",
   "metadata": {},
   "outputs": [],
   "source": []
  },
  {
   "cell_type": "markdown",
   "id": "14d7d6f2",
   "metadata": {},
   "source": [
    "3.) Use string methods to create an alphabet array formatted as follows: `['Aa', 'Bb',....]`"
   ]
  },
  {
   "cell_type": "code",
   "execution_count": null,
   "id": "d163ccc6",
   "metadata": {},
   "outputs": [],
   "source": []
  },
  {
   "cell_type": "markdown",
   "id": "2410ea02",
   "metadata": {},
   "source": [
    "4.) Create a list of 10 fruits and find out how many times each of the 5 vowels appears in the list."
   ]
  },
  {
   "cell_type": "code",
   "execution_count": null,
   "id": "30c2fa44",
   "metadata": {},
   "outputs": [],
   "source": []
  },
  {
   "cell_type": "markdown",
   "id": "de8053b1",
   "metadata": {},
   "source": [
    "5.) Create a list of 10 countries and find out which letter appears the most in the list."
   ]
  },
  {
   "cell_type": "code",
   "execution_count": null,
   "id": "290f902f",
   "metadata": {},
   "outputs": [],
   "source": []
  },
  {
   "cell_type": "markdown",
   "id": "4b887ad1",
   "metadata": {},
   "source": [
    "**Exercises: Part B**"
   ]
  },
  {
   "cell_type": "markdown",
   "id": "099bc289",
   "metadata": {},
   "source": [
    "6.) Create a function which takes in a list of string arrays and produces either:\n",
    "* The longest string in the list is `____`\n",
    "* There is a tie for longest string between `___ and ____`"
   ]
  },
  {
   "cell_type": "code",
   "execution_count": null,
   "id": "e33a4126",
   "metadata": {},
   "outputs": [],
   "source": []
  },
  {
   "cell_type": "markdown",
   "id": "eba18bc2",
   "metadata": {},
   "source": [
    "7.) Create a function which takes an array of strings and a letter and produces which string has the letter appears at the earliest index."
   ]
  },
  {
   "cell_type": "code",
   "execution_count": null,
   "id": "924bdfc0",
   "metadata": {},
   "outputs": [],
   "source": []
  },
  {
   "cell_type": "markdown",
   "id": "e758c3f1",
   "metadata": {},
   "source": [
    "8.) Create an array of 10 unique date strings with the format `(month day, year)`.\n",
    "* Change all the months to October\n",
    "* Change all the dates to 29\n",
    "* Change all the years to 1966"
   ]
  },
  {
   "cell_type": "code",
   "execution_count": null,
   "id": "697555d5",
   "metadata": {},
   "outputs": [],
   "source": []
  },
  {
   "cell_type": "markdown",
   "id": "9beebb06",
   "metadata": {},
   "source": [
    "9.) Create a function which takes in a sentence string and turns it into a list of words. Then produce the number of unique words in the sentence and which words they are."
   ]
  },
  {
   "cell_type": "code",
   "execution_count": null,
   "id": "17721ed0",
   "metadata": {},
   "outputs": [],
   "source": []
  },
  {
   "cell_type": "markdown",
   "id": "5886fdb8",
   "metadata": {},
   "source": [
    "10.) Create a function which takes in an array of strings and sorts them from:\n",
    "* Longest string to shortest string\n",
    "* Shortest string to longest string\n",
    "* Most vowels to least vowels\n",
    "* Least vowels to most vowels\n",
    "* Most unique letters to least unique letters\n",
    "* Least unique letters to most unique letters\n",
    "* Most uppercase letters to least uppercase letters\n",
    "* Least uppercase letters to most uppercase letters\n",
    "* Most lowercase letters to least lowercase letters\n",
    "* Least lowercase letters to most lowercase letters"
   ]
  },
  {
   "cell_type": "code",
   "execution_count": null,
   "id": "872c37d6",
   "metadata": {},
   "outputs": [],
   "source": []
  }
 ],
 "metadata": {
  "kernelspec": {
   "display_name": "Python 3 (ipykernel)",
   "language": "python",
   "name": "python3"
  },
  "language_info": {
   "codemirror_mode": {
    "name": "ipython",
    "version": 3
   },
   "file_extension": ".py",
   "mimetype": "text/x-python",
   "name": "python",
   "nbconvert_exporter": "python",
   "pygments_lexer": "ipython3",
   "version": "3.9.7"
  }
 },
 "nbformat": 4,
 "nbformat_minor": 5
}
